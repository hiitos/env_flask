{
 "cells": [
  {
   "cell_type": "markdown",
   "metadata": {},
   "source": [
    "# SQLAlchemy\n",
    "https://www.wakuwakubank.com/posts/277-python-sqlalchemy/\n"
   ]
  },
  {
   "cell_type": "code",
   "execution_count": 1,
   "metadata": {},
   "outputs": [],
   "source": [
    "# pip install python-dotenv"
   ]
  },
  {
   "cell_type": "code",
   "execution_count": 2,
   "metadata": {},
   "outputs": [],
   "source": [
    "# pip install mysqlclient"
   ]
  },
  {
   "cell_type": "code",
   "execution_count": 3,
   "metadata": {},
   "outputs": [
    {
     "data": {
      "text/plain": [
       "True"
      ]
     },
     "execution_count": 3,
     "metadata": {},
     "output_type": "execute_result"
    }
   ],
   "source": [
    "import os\n",
    "from sqlalchemy import create_engine, Column, Integer, String\n",
    "from sqlalchemy.ext.declarative import declarative_base\n",
    "from sqlalchemy.orm import sessionmaker, scoped_session\n",
    "from sqlalchemy import desc\n",
    "from dotenv import load_dotenv\n",
    "load_dotenv()"
   ]
  },
  {
   "cell_type": "markdown",
   "metadata": {},
   "source": [
    "## DB接続に必要な設定"
   ]
  },
  {
   "cell_type": "markdown",
   "metadata": {},
   "source": [
    "Sessionの生成方法には以下のような種類がある。  \n",
    "https://qiita.com/tosizo/items/86d3c60a4bb70eb1656e\n",
    "- Sessionクラスによる生成（基本）\n",
    "- sessionmakerによる生成\n",
    "- scoped_sessionによる生成\n",
    "- scoped_sessionによる生成（ORM編）"
   ]
  },
  {
   "cell_type": "code",
   "execution_count": 4,
   "metadata": {},
   "outputs": [],
   "source": [
    "# mysqlの設定の場合\n",
    "DATABASE = 'mysql+mysqldb'\n",
    "USER = os.getenv('DB_USERNAME')\n",
    "PASSWORD = os.getenv('DB_PASSWORD')\n",
    "HOST = os.getenv('DB_HOST')\n",
    "PORT = os.getenv('DB_PORT')\n",
    "DB_NAME = os.getenv('DB_DATABASE')\n",
    "CHARSET_TYPE = \"utf8\"\n",
    "DB_CONNECT_URL = f\"{DATABASE}://{USER}:{PASSWORD}@{HOST}:{PORT}/{DB_NAME}?charset={CHARSET_TYPE}\""
   ]
  },
  {
   "cell_type": "code",
   "execution_count": 5,
   "metadata": {},
   "outputs": [],
   "source": [
    "# ローカル用のDB設定\n",
    "DB_CONNECT_URL = 'sqlite:///db.sqlite3'"
   ]
  },
  {
   "cell_type": "code",
   "execution_count": 6,
   "metadata": {},
   "outputs": [],
   "source": [
    "# engineの設定 接続用のインスタンスを作成（create_engine関数がEngineインスタンスを返す）\n",
    "engine = create_engine(DB_CONNECT_URL,echo=True)\n",
    "\n",
    "# DBに対してORM操作するときに利用\n",
    "# Sessionを通じて操作を行う\n",
    "session = scoped_session(\n",
    "    sessionmaker(autocommit=False, autoflush=False, bind=engine)\n",
    ")\n",
    "\n",
    "# 各modelで利用\n",
    "# classとDBをMapping\n",
    "Base = declarative_base()"
   ]
  },
  {
   "cell_type": "markdown",
   "metadata": {},
   "source": [
    "## テーブルの作成\n",
    "metadataを使うと、既存のデータベースからテーブル定義をもってきたりできる"
   ]
  },
  {
   "cell_type": "markdown",
   "metadata": {},
   "source": [
    "### （１）Userのマスターテーブル"
   ]
  },
  {
   "cell_type": "code",
   "execution_count": 7,
   "metadata": {},
   "outputs": [
    {
     "name": "stdout",
     "output_type": "stream",
     "text": [
      "2022-10-26 22:00:39,602 INFO sqlalchemy.engine.Engine BEGIN (implicit)\n",
      "2022-10-26 22:00:39,603 INFO sqlalchemy.engine.Engine PRAGMA main.table_info(\"users\")\n",
      "2022-10-26 22:00:39,603 INFO sqlalchemy.engine.Engine [raw sql] ()\n",
      "2022-10-26 22:00:39,607 INFO sqlalchemy.engine.Engine COMMIT\n"
     ]
    }
   ],
   "source": [
    "from sqlalchemy import Column, Integer, String, DateTime, Sequence\n",
    "from datetime import datetime\n",
    "import sys\n",
    "\n",
    "class User(Base):\n",
    "    \"\"\"\n",
    "    UserModel\n",
    "    \"\"\"\n",
    "    __tablename__ = 'users'\n",
    "    __table_args__ = {\n",
    "        'comment': 'ユーザー情報のマスターテーブル'\n",
    "    }\n",
    "    id = Column('id', Integer, primary_key=True, autoincrement=True)\n",
    "    name = Column('name', String(200))\n",
    "    age = Column('age', Integer)\n",
    "    email = Column('email', String(100))\n",
    "    created_at = Column('created', DateTime, default=datetime.now, nullable=False)\n",
    "    updated_at = Column('modified', DateTime, default=datetime.now, nullable=False)\n",
    "    \n",
    "Base.metadata.create_all(bind=engine)"
   ]
  },
  {
   "cell_type": "markdown",
   "metadata": {},
   "source": [
    "### （２）Logのマスターテーブル"
   ]
  },
  {
   "cell_type": "code",
   "execution_count": 8,
   "metadata": {},
   "outputs": [
    {
     "name": "stdout",
     "output_type": "stream",
     "text": [
      "2022-10-26 22:00:39,654 INFO sqlalchemy.engine.Engine BEGIN (implicit)\n",
      "2022-10-26 22:00:39,655 INFO sqlalchemy.engine.Engine PRAGMA main.table_info(\"users\")\n",
      "2022-10-26 22:00:39,656 INFO sqlalchemy.engine.Engine [raw sql] ()\n",
      "2022-10-26 22:00:39,660 INFO sqlalchemy.engine.Engine PRAGMA main.table_info(\"logs\")\n",
      "2022-10-26 22:00:39,660 INFO sqlalchemy.engine.Engine [raw sql] ()\n",
      "2022-10-26 22:00:39,662 INFO sqlalchemy.engine.Engine COMMIT\n"
     ]
    }
   ],
   "source": [
    "class AppLog(Base):\n",
    "    \"\"\"\n",
    "    AppLogModel\n",
    "    \"\"\"\n",
    "    __tablename__ = 'logs'\n",
    "    __table_args__ = {\n",
    "        'comment': 'アプリのログテーブル'\n",
    "    }\n",
    "    log_id = Column('id', Integer, primary_key=True, autoincrement=True)\n",
    "    user_id = Column('user_id', Integer)\n",
    "    event_id = Column('event_id', Integer)\n",
    "    created_at = Column('created', DateTime, default=datetime.now, nullable=False)\n",
    "    \n",
    "Base.metadata.create_all(bind=engine)"
   ]
  },
  {
   "cell_type": "markdown",
   "metadata": {},
   "source": [
    "## ORM操作\n",
    "https://zenn.dev/shimakaze_soft/articles/6e5e47851459f5\n",
    "https://qiita.com/simonritchie/items/705148154f810ee308e2\n",
    "\n",
    "\n",
    "データベースとマッピングされたオブジェクトを利用して、データベースを操作する技法"
   ]
  },
  {
   "cell_type": "code",
   "execution_count": 9,
   "metadata": {},
   "outputs": [
    {
     "name": "stdout",
     "output_type": "stream",
     "text": [
      "2022-10-26 22:00:39,700 INFO sqlalchemy.engine.Engine BEGIN (implicit)\n",
      "2022-10-26 22:00:39,701 INFO sqlalchemy.engine.Engine SELECT users.created AS users_created, users.modified AS users_modified, users.id AS users_id, users.name AS users_name, users.age AS users_age, users.email AS users_email \n",
      "FROM users\n",
      "2022-10-26 22:00:39,702 INFO sqlalchemy.engine.Engine [generated in 0.00057s] ()\n",
      "4 user0 None None 2022-10-26 21:47:46.185966 2022-10-26 21:47:46.185968\n",
      "5 user1 None None 2022-10-26 21:47:46.186926 2022-10-26 21:47:46.186927\n",
      "6 user2 None None 2022-10-26 21:47:46.187619 2022-10-26 21:47:46.187621\n",
      "7 user3 None None 2022-10-26 21:47:46.188409 2022-10-26 21:47:46.188410\n",
      "8 user4 None None 2022-10-26 21:47:46.188952 2022-10-26 21:47:46.188954\n",
      "9 user5 None None 2022-10-26 21:47:46.191125 2022-10-26 21:47:46.191127\n",
      "10 user6 None None 2022-10-26 21:47:46.192753 2022-10-26 21:47:46.192755\n",
      "11 user7 None None 2022-10-26 21:47:46.193680 2022-10-26 21:47:46.193682\n",
      "12 user8 None None 2022-10-26 21:47:46.195114 2022-10-26 21:47:46.195115\n",
      "13 user9 None None 2022-10-26 21:47:46.197795 2022-10-26 21:47:46.197797\n",
      "14 user10 None None 2022-10-26 21:47:46.199025 2022-10-26 21:47:46.199027\n"
     ]
    }
   ],
   "source": [
    "# usersテーブルのレコードを全て取得する\n",
    "# SELECT * FROM users; と同じ\n",
    "users = session.query(User).all()\n",
    "for user in users:\n",
    "    print(user.id,user.name,user.age,user.email,user.created_at,user.updated_at)"
   ]
  },
  {
   "cell_type": "code",
   "execution_count": 10,
   "metadata": {},
   "outputs": [
    {
     "name": "stdout",
     "output_type": "stream",
     "text": [
      "2022-10-26 22:00:39,741 INFO sqlalchemy.engine.Engine DELETE FROM users\n",
      "2022-10-26 22:00:39,743 INFO sqlalchemy.engine.Engine [generated in 0.00119s] ()\n",
      "2022-10-26 22:00:39,752 INFO sqlalchemy.engine.Engine COMMIT\n"
     ]
    }
   ],
   "source": [
    "# 初期化\n",
    "# 全データ削除\n",
    "session.query(User).delete()\n",
    "session.commit()"
   ]
  },
  {
   "cell_type": "code",
   "execution_count": 11,
   "metadata": {},
   "outputs": [
    {
     "name": "stdout",
     "output_type": "stream",
     "text": [
      "2022-10-26 22:00:39,857 INFO sqlalchemy.engine.Engine BEGIN (implicit)\n",
      "2022-10-26 22:00:39,859 INFO sqlalchemy.engine.Engine SELECT logs.id AS logs_id, logs.created AS logs_created, logs.user_id AS logs_user_id, logs.event_id AS logs_event_id \n",
      "FROM logs\n",
      "2022-10-26 22:00:39,859 INFO sqlalchemy.engine.Engine [generated in 0.00074s] ()\n",
      "\n",
      "log_id user_id event_id created_at\n",
      "1 user8 None 2022-10-26 21:48:02.038021\n",
      "2 user5 None 2022-10-26 21:48:02.057491\n",
      "3 user5 None 2022-10-26 21:48:02.061237\n",
      "4 user0 None 2022-10-26 21:48:02.063866\n",
      "5 user0 None 2022-10-26 21:48:02.067640\n",
      "6 user8 None 2022-10-26 21:48:02.069681\n",
      "7 user2 None 2022-10-26 21:48:02.071780\n",
      "8 user3 None 2022-10-26 21:48:02.072882\n",
      "9 user1 None 2022-10-26 21:48:02.076569\n",
      "10 user9 None 2022-10-26 21:48:02.077896\n",
      "11 user8 None 2022-10-26 21:48:02.079076\n",
      "12 user0 None 2022-10-26 21:48:02.081889\n",
      "13 user3 None 2022-10-26 21:48:02.084275\n",
      "14 user1 None 2022-10-26 21:48:02.085044\n",
      "15 user5 None 2022-10-26 21:48:02.085858\n",
      "16 user10 None 2022-10-26 21:48:02.086834\n",
      "17 user10 None 2022-10-26 21:48:02.087283\n",
      "18 user4 None 2022-10-26 21:48:02.088258\n",
      "19 user8 None 2022-10-26 21:48:02.089264\n",
      "20 user2 None 2022-10-26 21:48:02.090061\n"
     ]
    }
   ],
   "source": [
    "# logsテーブルのレコードを全て取得する\n",
    "logs = session.query(AppLog).all()\n",
    "print(\"\")\n",
    "print(\"log_id\",\"user_id\",\"event_id\",\"created_at\")\n",
    "for log in logs:\n",
    "    print(log.log_id,log.user_id,log.event_id,log.created_at)"
   ]
  },
  {
   "cell_type": "code",
   "execution_count": 12,
   "metadata": {},
   "outputs": [
    {
     "name": "stdout",
     "output_type": "stream",
     "text": [
      "2022-10-26 22:00:39,901 INFO sqlalchemy.engine.Engine DELETE FROM logs\n",
      "2022-10-26 22:00:39,902 INFO sqlalchemy.engine.Engine [generated in 0.00056s] ()\n",
      "2022-10-26 22:00:39,912 INFO sqlalchemy.engine.Engine COMMIT\n"
     ]
    }
   ],
   "source": [
    "# 初期化\n",
    "# 全データ削除\n",
    "session.query(AppLog).delete()\n",
    "session.commit()"
   ]
  },
  {
   "cell_type": "markdown",
   "metadata": {},
   "source": [
    "## CRUD処理"
   ]
  },
  {
   "cell_type": "markdown",
   "metadata": {},
   "source": [
    "### Create (Insert)"
   ]
  },
  {
   "cell_type": "code",
   "execution_count": 13,
   "metadata": {},
   "outputs": [
    {
     "name": "stdout",
     "output_type": "stream",
     "text": [
      "2022-10-26 22:00:39,960 INFO sqlalchemy.engine.Engine BEGIN (implicit)\n",
      "2022-10-26 22:00:39,962 INFO sqlalchemy.engine.Engine INSERT INTO users (name, age, email, created, modified) VALUES (?, ?, ?, ?, ?)\n",
      "2022-10-26 22:00:39,963 INFO sqlalchemy.engine.Engine [generated in 0.00111s] ('sample-name', None, None, '2022-10-26 22:00:39.961979', '2022-10-26 22:00:39.961985')\n",
      "2022-10-26 22:00:39,980 INFO sqlalchemy.engine.Engine INSERT INTO users (name, age, email, created, modified) VALUES (?, ?, ?, ?, ?)\n",
      "2022-10-26 22:00:39,981 INFO sqlalchemy.engine.Engine [cached since 0.01983s ago] ('orange', None, None, '2022-10-26 22:00:39.980566', '2022-10-26 22:00:39.980573')\n",
      "2022-10-26 22:00:39,982 INFO sqlalchemy.engine.Engine INSERT INTO users (name, age, email, created, modified) VALUES (?, ?, ?, ?, ?)\n",
      "2022-10-26 22:00:39,983 INFO sqlalchemy.engine.Engine [cached since 0.02124s ago] ('melon', None, None, '2022-10-26 22:00:39.982331', '2022-10-26 22:00:39.982333')\n",
      "2022-10-26 22:00:39,983 INFO sqlalchemy.engine.Engine INSERT INTO users (name, age, email, created, modified) VALUES (?, ?, ?, ?, ?)\n",
      "2022-10-26 22:00:39,984 INFO sqlalchemy.engine.Engine [cached since 0.02235s ago] ('user0', None, None, '2022-10-26 22:00:39.983708', '2022-10-26 22:00:39.983711')\n",
      "2022-10-26 22:00:39,984 INFO sqlalchemy.engine.Engine INSERT INTO users (name, age, email, created, modified) VALUES (?, ?, ?, ?, ?)\n",
      "2022-10-26 22:00:39,985 INFO sqlalchemy.engine.Engine [cached since 0.02317s ago] ('user1', None, None, '2022-10-26 22:00:39.984717', '2022-10-26 22:00:39.984718')\n",
      "2022-10-26 22:00:39,985 INFO sqlalchemy.engine.Engine INSERT INTO users (name, age, email, created, modified) VALUES (?, ?, ?, ?, ?)\n",
      "2022-10-26 22:00:39,986 INFO sqlalchemy.engine.Engine [cached since 0.0242s ago] ('user2', None, None, '2022-10-26 22:00:39.985742', '2022-10-26 22:00:39.985744')\n",
      "2022-10-26 22:00:39,986 INFO sqlalchemy.engine.Engine INSERT INTO users (name, age, email, created, modified) VALUES (?, ?, ?, ?, ?)\n",
      "2022-10-26 22:00:39,987 INFO sqlalchemy.engine.Engine [cached since 0.02536s ago] ('user3', None, None, '2022-10-26 22:00:39.986681', '2022-10-26 22:00:39.986683')\n",
      "2022-10-26 22:00:39,987 INFO sqlalchemy.engine.Engine INSERT INTO users (name, age, email, created, modified) VALUES (?, ?, ?, ?, ?)\n",
      "2022-10-26 22:00:39,988 INFO sqlalchemy.engine.Engine [cached since 0.02611s ago] ('user4', None, None, '2022-10-26 22:00:39.987728', '2022-10-26 22:00:39.987729')\n",
      "2022-10-26 22:00:39,988 INFO sqlalchemy.engine.Engine INSERT INTO users (name, age, email, created, modified) VALUES (?, ?, ?, ?, ?)\n",
      "2022-10-26 22:00:39,989 INFO sqlalchemy.engine.Engine [cached since 0.02721s ago] ('user5', None, None, '2022-10-26 22:00:39.988864', '2022-10-26 22:00:39.988865')\n",
      "2022-10-26 22:00:39,990 INFO sqlalchemy.engine.Engine INSERT INTO users (name, age, email, created, modified) VALUES (?, ?, ?, ?, ?)\n",
      "2022-10-26 22:00:39,990 INFO sqlalchemy.engine.Engine [cached since 0.02902s ago] ('user6', None, None, '2022-10-26 22:00:39.990496', '2022-10-26 22:00:39.990498')\n",
      "2022-10-26 22:00:39,991 INFO sqlalchemy.engine.Engine INSERT INTO users (name, age, email, created, modified) VALUES (?, ?, ?, ?, ?)\n",
      "2022-10-26 22:00:39,991 INFO sqlalchemy.engine.Engine [cached since 0.02971s ago] ('user7', None, None, '2022-10-26 22:00:39.991259', '2022-10-26 22:00:39.991260')\n",
      "2022-10-26 22:00:39,991 INFO sqlalchemy.engine.Engine INSERT INTO users (name, age, email, created, modified) VALUES (?, ?, ?, ?, ?)\n",
      "2022-10-26 22:00:39,992 INFO sqlalchemy.engine.Engine [cached since 0.0303s ago] ('user8', None, None, '2022-10-26 22:00:39.991964', '2022-10-26 22:00:39.991966')\n",
      "2022-10-26 22:00:39,992 INFO sqlalchemy.engine.Engine INSERT INTO users (name, age, email, created, modified) VALUES (?, ?, ?, ?, ?)\n",
      "2022-10-26 22:00:39,993 INFO sqlalchemy.engine.Engine [cached since 0.03121s ago] ('user9', None, None, '2022-10-26 22:00:39.992659', '2022-10-26 22:00:39.992660')\n",
      "2022-10-26 22:00:39,993 INFO sqlalchemy.engine.Engine INSERT INTO users (name, age, email, created, modified) VALUES (?, ?, ?, ?, ?)\n",
      "2022-10-26 22:00:39,997 INFO sqlalchemy.engine.Engine [cached since 0.0352s ago] ('user10', None, None, '2022-10-26 22:00:39.993904', '2022-10-26 22:00:39.993905')\n",
      "2022-10-26 22:00:39,997 INFO sqlalchemy.engine.Engine COMMIT\n"
     ]
    }
   ],
   "source": [
    "# １つ挿入する場合\n",
    "user = User()\n",
    "user.name = 'sample-name'\n",
    "# insert\n",
    "session.add(user)\n",
    "\n",
    "# 複数挿入する場合\n",
    "add_list = [\n",
    "    User(name='orange'),\n",
    "    User(name='melon'),\n",
    "]\n",
    "# insert\n",
    "session.add_all(instances=add_list)\n",
    "\n",
    "# 以下で使いそうなものをforで生成しておく\n",
    "add_list = []\n",
    "for i in range(0,11):\n",
    "    user = User()\n",
    "    user.name = 'user' + str(i)\n",
    "    add_list.append(user)\n",
    "# insert\n",
    "session.add_all(instances=add_list)\n",
    "\n",
    "# commitでデータベースへ反映\n",
    "session.commit()"
   ]
  },
  {
   "cell_type": "code",
   "execution_count": 14,
   "metadata": {},
   "outputs": [
    {
     "name": "stdout",
     "output_type": "stream",
     "text": [
      "2022-10-26 22:00:40,113 INFO sqlalchemy.engine.Engine BEGIN (implicit)\n",
      "2022-10-26 22:00:40,114 INFO sqlalchemy.engine.Engine SELECT users.created AS users_created, users.modified AS users_modified, users.id AS users_id, users.name AS users_name, users.age AS users_age, users.email AS users_email \n",
      "FROM users\n",
      "2022-10-26 22:00:40,114 INFO sqlalchemy.engine.Engine [cached since 0.413s ago] ()\n",
      "\n",
      "id name age email created_at updated_at\n",
      "1 sample-name None None 2022-10-26 22:00:39.961979 2022-10-26 22:00:39.961985\n",
      "2 orange None None 2022-10-26 22:00:39.980566 2022-10-26 22:00:39.980573\n",
      "3 melon None None 2022-10-26 22:00:39.982331 2022-10-26 22:00:39.982333\n",
      "4 user0 None None 2022-10-26 22:00:39.983708 2022-10-26 22:00:39.983711\n",
      "5 user1 None None 2022-10-26 22:00:39.984717 2022-10-26 22:00:39.984718\n",
      "6 user2 None None 2022-10-26 22:00:39.985742 2022-10-26 22:00:39.985744\n",
      "7 user3 None None 2022-10-26 22:00:39.986681 2022-10-26 22:00:39.986683\n",
      "8 user4 None None 2022-10-26 22:00:39.987728 2022-10-26 22:00:39.987729\n",
      "9 user5 None None 2022-10-26 22:00:39.988864 2022-10-26 22:00:39.988865\n",
      "10 user6 None None 2022-10-26 22:00:39.990496 2022-10-26 22:00:39.990498\n",
      "11 user7 None None 2022-10-26 22:00:39.991259 2022-10-26 22:00:39.991260\n",
      "12 user8 None None 2022-10-26 22:00:39.991964 2022-10-26 22:00:39.991966\n",
      "13 user9 None None 2022-10-26 22:00:39.992659 2022-10-26 22:00:39.992660\n",
      "14 user10 None None 2022-10-26 22:00:39.993904 2022-10-26 22:00:39.993905\n"
     ]
    }
   ],
   "source": [
    "# usersテーブルのレコードを全て取得する\n",
    "users = session.query(User).all()\n",
    "print(\"\")\n",
    "print(\"id\",\"name\",\"age\",\"email\",\"created_at\",\"updated_at\")\n",
    "for user in users:\n",
    "    print(user.id,user.name,user.age,user.email,user.created_at,user.updated_at)"
   ]
  },
  {
   "cell_type": "code",
   "execution_count": 15,
   "metadata": {},
   "outputs": [
    {
     "name": "stdout",
     "output_type": "stream",
     "text": [
      "2022-10-26 22:00:40,211 INFO sqlalchemy.engine.Engine INSERT INTO logs (user_id, event_id, created) VALUES (?, ?, ?)\n",
      "2022-10-26 22:00:40,213 INFO sqlalchemy.engine.Engine [generated in 0.00219s] ('user7', None, '2022-10-26 22:00:40.211336')\n",
      "2022-10-26 22:00:40,223 INFO sqlalchemy.engine.Engine INSERT INTO logs (user_id, event_id, created) VALUES (?, ?, ?)\n",
      "2022-10-26 22:00:40,223 INFO sqlalchemy.engine.Engine [cached since 0.01231s ago] ('user4', None, '2022-10-26 22:00:40.222985')\n",
      "2022-10-26 22:00:40,224 INFO sqlalchemy.engine.Engine INSERT INTO logs (user_id, event_id, created) VALUES (?, ?, ?)\n",
      "2022-10-26 22:00:40,225 INFO sqlalchemy.engine.Engine [cached since 0.01372s ago] ('user8', None, '2022-10-26 22:00:40.224695')\n",
      "2022-10-26 22:00:40,225 INFO sqlalchemy.engine.Engine INSERT INTO logs (user_id, event_id, created) VALUES (?, ?, ?)\n",
      "2022-10-26 22:00:40,226 INFO sqlalchemy.engine.Engine [cached since 0.01506s ago] ('user8', None, '2022-10-26 22:00:40.225348')\n",
      "2022-10-26 22:00:40,227 INFO sqlalchemy.engine.Engine INSERT INTO logs (user_id, event_id, created) VALUES (?, ?, ?)\n",
      "2022-10-26 22:00:40,227 INFO sqlalchemy.engine.Engine [cached since 0.01652s ago] ('user6', None, '2022-10-26 22:00:40.227489')\n",
      "2022-10-26 22:00:40,228 INFO sqlalchemy.engine.Engine INSERT INTO logs (user_id, event_id, created) VALUES (?, ?, ?)\n",
      "2022-10-26 22:00:40,228 INFO sqlalchemy.engine.Engine [cached since 0.01748s ago] ('user1', None, '2022-10-26 22:00:40.228272')\n",
      "2022-10-26 22:00:40,229 INFO sqlalchemy.engine.Engine INSERT INTO logs (user_id, event_id, created) VALUES (?, ?, ?)\n",
      "2022-10-26 22:00:40,229 INFO sqlalchemy.engine.Engine [cached since 0.01843s ago] ('user6', None, '2022-10-26 22:00:40.229215')\n",
      "2022-10-26 22:00:40,231 INFO sqlalchemy.engine.Engine INSERT INTO logs (user_id, event_id, created) VALUES (?, ?, ?)\n",
      "2022-10-26 22:00:40,231 INFO sqlalchemy.engine.Engine [cached since 0.02038s ago] ('user3', None, '2022-10-26 22:00:40.231044')\n",
      "2022-10-26 22:00:40,232 INFO sqlalchemy.engine.Engine INSERT INTO logs (user_id, event_id, created) VALUES (?, ?, ?)\n",
      "2022-10-26 22:00:40,234 INFO sqlalchemy.engine.Engine [cached since 0.02341s ago] ('user0', None, '2022-10-26 22:00:40.232192')\n",
      "2022-10-26 22:00:40,235 INFO sqlalchemy.engine.Engine INSERT INTO logs (user_id, event_id, created) VALUES (?, ?, ?)\n",
      "2022-10-26 22:00:40,236 INFO sqlalchemy.engine.Engine [cached since 0.0248s ago] ('user10', None, '2022-10-26 22:00:40.235695')\n",
      "2022-10-26 22:00:40,237 INFO sqlalchemy.engine.Engine INSERT INTO logs (user_id, event_id, created) VALUES (?, ?, ?)\n",
      "2022-10-26 22:00:40,237 INFO sqlalchemy.engine.Engine [cached since 0.02649s ago] ('user9', None, '2022-10-26 22:00:40.237064')\n",
      "2022-10-26 22:00:40,238 INFO sqlalchemy.engine.Engine INSERT INTO logs (user_id, event_id, created) VALUES (?, ?, ?)\n",
      "2022-10-26 22:00:40,238 INFO sqlalchemy.engine.Engine [cached since 0.02731s ago] ('user3', None, '2022-10-26 22:00:40.238320')\n",
      "2022-10-26 22:00:40,239 INFO sqlalchemy.engine.Engine INSERT INTO logs (user_id, event_id, created) VALUES (?, ?, ?)\n",
      "2022-10-26 22:00:40,239 INFO sqlalchemy.engine.Engine [cached since 0.02843s ago] ('user5', None, '2022-10-26 22:00:40.239464')\n",
      "2022-10-26 22:00:40,240 INFO sqlalchemy.engine.Engine INSERT INTO logs (user_id, event_id, created) VALUES (?, ?, ?)\n",
      "2022-10-26 22:00:40,240 INFO sqlalchemy.engine.Engine [cached since 0.02946s ago] ('user8', None, '2022-10-26 22:00:40.240326')\n",
      "2022-10-26 22:00:40,241 INFO sqlalchemy.engine.Engine INSERT INTO logs (user_id, event_id, created) VALUES (?, ?, ?)\n",
      "2022-10-26 22:00:40,241 INFO sqlalchemy.engine.Engine [cached since 0.03037s ago] ('user0', None, '2022-10-26 22:00:40.241113')\n",
      "2022-10-26 22:00:40,242 INFO sqlalchemy.engine.Engine INSERT INTO logs (user_id, event_id, created) VALUES (?, ?, ?)\n",
      "2022-10-26 22:00:40,242 INFO sqlalchemy.engine.Engine [cached since 0.03126s ago] ('user10', None, '2022-10-26 22:00:40.242091')\n",
      "2022-10-26 22:00:40,243 INFO sqlalchemy.engine.Engine INSERT INTO logs (user_id, event_id, created) VALUES (?, ?, ?)\n",
      "2022-10-26 22:00:40,243 INFO sqlalchemy.engine.Engine [cached since 0.03248s ago] ('user4', None, '2022-10-26 22:00:40.243470')\n",
      "2022-10-26 22:00:40,244 INFO sqlalchemy.engine.Engine INSERT INTO logs (user_id, event_id, created) VALUES (?, ?, ?)\n",
      "2022-10-26 22:00:40,244 INFO sqlalchemy.engine.Engine [cached since 0.03339s ago] ('user3', None, '2022-10-26 22:00:40.244142')\n",
      "2022-10-26 22:00:40,245 INFO sqlalchemy.engine.Engine INSERT INTO logs (user_id, event_id, created) VALUES (?, ?, ?)\n",
      "2022-10-26 22:00:40,245 INFO sqlalchemy.engine.Engine [cached since 0.03421s ago] ('user4', None, '2022-10-26 22:00:40.245033')\n",
      "2022-10-26 22:00:40,245 INFO sqlalchemy.engine.Engine INSERT INTO logs (user_id, event_id, created) VALUES (?, ?, ?)\n",
      "2022-10-26 22:00:40,246 INFO sqlalchemy.engine.Engine [cached since 0.03477s ago] ('user2', None, '2022-10-26 22:00:40.245834')\n",
      "2022-10-26 22:00:40,247 INFO sqlalchemy.engine.Engine COMMIT\n"
     ]
    }
   ],
   "source": [
    "import random\n",
    "add_list = []\n",
    "for i in range(0,20):\n",
    "    log = AppLog()\n",
    "    log.user_id = 'user' + str(random.randint(0, 10))\n",
    "    add_list.append(log)\n",
    "# insert\n",
    "session.add_all(instances=add_list)\n",
    "session.commit()"
   ]
  },
  {
   "cell_type": "code",
   "execution_count": 16,
   "metadata": {},
   "outputs": [
    {
     "name": "stdout",
     "output_type": "stream",
     "text": [
      "2022-10-26 22:00:40,293 INFO sqlalchemy.engine.Engine BEGIN (implicit)\n",
      "2022-10-26 22:00:40,294 INFO sqlalchemy.engine.Engine SELECT logs.id AS logs_id, logs.created AS logs_created, logs.user_id AS logs_user_id, logs.event_id AS logs_event_id \n",
      "FROM logs\n",
      "2022-10-26 22:00:40,295 INFO sqlalchemy.engine.Engine [cached since 0.436s ago] ()\n",
      "\n",
      "log_id user_id event_id created_at\n",
      "1 user7 None 2022-10-26 22:00:40.211336\n",
      "2 user4 None 2022-10-26 22:00:40.222985\n",
      "3 user8 None 2022-10-26 22:00:40.224695\n",
      "4 user8 None 2022-10-26 22:00:40.225348\n",
      "5 user6 None 2022-10-26 22:00:40.227489\n",
      "6 user1 None 2022-10-26 22:00:40.228272\n",
      "7 user6 None 2022-10-26 22:00:40.229215\n",
      "8 user3 None 2022-10-26 22:00:40.231044\n",
      "9 user0 None 2022-10-26 22:00:40.232192\n",
      "10 user10 None 2022-10-26 22:00:40.235695\n",
      "11 user9 None 2022-10-26 22:00:40.237064\n",
      "12 user3 None 2022-10-26 22:00:40.238320\n",
      "13 user5 None 2022-10-26 22:00:40.239464\n",
      "14 user8 None 2022-10-26 22:00:40.240326\n",
      "15 user0 None 2022-10-26 22:00:40.241113\n",
      "16 user10 None 2022-10-26 22:00:40.242091\n",
      "17 user4 None 2022-10-26 22:00:40.243470\n",
      "18 user3 None 2022-10-26 22:00:40.244142\n",
      "19 user4 None 2022-10-26 22:00:40.245033\n",
      "20 user2 None 2022-10-26 22:00:40.245834\n"
     ]
    }
   ],
   "source": [
    "# logsテーブルのレコードを全て取得する\n",
    "logs = session.query(AppLog).all()\n",
    "print(\"\")\n",
    "print(\"log_id\",\"user_id\",\"event_id\",\"created_at\")\n",
    "for log in logs:\n",
    "    print(log.log_id,log.user_id,log.event_id,log.created_at)"
   ]
  },
  {
   "cell_type": "code",
   "execution_count": 17,
   "metadata": {},
   "outputs": [
    {
     "name": "stdout",
     "output_type": "stream",
     "text": [
      "2022-10-26 22:00:40,351 INFO sqlalchemy.engine.Engine ROLLBACK\n"
     ]
    }
   ],
   "source": [
    "# 最後にsessionを閉じ処理\n",
    "session.close()"
   ]
  },
  {
   "cell_type": "markdown",
   "metadata": {},
   "source": [
    "### Read (Select)"
   ]
  },
  {
   "cell_type": "code",
   "execution_count": 18,
   "metadata": {},
   "outputs": [
    {
     "name": "stdout",
     "output_type": "stream",
     "text": [
      "2022-10-26 22:00:40,412 INFO sqlalchemy.engine.Engine BEGIN (implicit)\n",
      "2022-10-26 22:00:40,413 INFO sqlalchemy.engine.Engine SELECT users.created AS users_created, users.modified AS users_modified, users.id AS users_id, users.name AS users_name, users.age AS users_age, users.email AS users_email \n",
      "FROM users\n",
      "2022-10-26 22:00:40,414 INFO sqlalchemy.engine.Engine [cached since 0.7125s ago] ()\n",
      "\n",
      "id name age email created_at updated_at\n",
      "1 sample-name None None 2022-10-26 22:00:39.961979 2022-10-26 22:00:39.961985\n",
      "2 orange None None 2022-10-26 22:00:39.980566 2022-10-26 22:00:39.980573\n",
      "3 melon None None 2022-10-26 22:00:39.982331 2022-10-26 22:00:39.982333\n",
      "4 user0 None None 2022-10-26 22:00:39.983708 2022-10-26 22:00:39.983711\n",
      "5 user1 None None 2022-10-26 22:00:39.984717 2022-10-26 22:00:39.984718\n",
      "6 user2 None None 2022-10-26 22:00:39.985742 2022-10-26 22:00:39.985744\n",
      "7 user3 None None 2022-10-26 22:00:39.986681 2022-10-26 22:00:39.986683\n",
      "8 user4 None None 2022-10-26 22:00:39.987728 2022-10-26 22:00:39.987729\n",
      "9 user5 None None 2022-10-26 22:00:39.988864 2022-10-26 22:00:39.988865\n",
      "10 user6 None None 2022-10-26 22:00:39.990496 2022-10-26 22:00:39.990498\n",
      "11 user7 None None 2022-10-26 22:00:39.991259 2022-10-26 22:00:39.991260\n",
      "12 user8 None None 2022-10-26 22:00:39.991964 2022-10-26 22:00:39.991966\n",
      "13 user9 None None 2022-10-26 22:00:39.992659 2022-10-26 22:00:39.992660\n",
      "14 user10 None None 2022-10-26 22:00:39.993904 2022-10-26 22:00:39.993905\n"
     ]
    }
   ],
   "source": [
    "# usersテーブルのレコードを全て取得する\n",
    "users = session.query(User).all()\n",
    "print(\"\")\n",
    "print(\"id\",\"name\",\"age\",\"email\",\"created_at\",\"updated_at\")\n",
    "for user in users:\n",
    "    print(user.id,user.name,user.age,user.email,user.created_at,user.updated_at)"
   ]
  },
  {
   "cell_type": "markdown",
   "metadata": {},
   "source": [
    "### Update (Update)"
   ]
  },
  {
   "cell_type": "code",
   "execution_count": 19,
   "metadata": {},
   "outputs": [
    {
     "name": "stdout",
     "output_type": "stream",
     "text": [
      "2022-10-26 22:00:40,505 INFO sqlalchemy.engine.Engine SELECT users.created AS users_created, users.modified AS users_modified, users.id AS users_id, users.name AS users_name, users.age AS users_age, users.email AS users_email \n",
      "FROM users\n",
      " LIMIT ? OFFSET ?\n",
      "2022-10-26 22:00:40,506 INFO sqlalchemy.engine.Engine [generated in 0.00107s] (1, 0)\n",
      "2022-10-26 22:00:40,511 INFO sqlalchemy.engine.Engine UPDATE users SET name=? WHERE users.id = ?\n",
      "2022-10-26 22:00:40,511 INFO sqlalchemy.engine.Engine [generated in 0.00070s] ('user_update_test', 1)\n",
      "2022-10-26 22:00:40,520 INFO sqlalchemy.engine.Engine COMMIT\n"
     ]
    }
   ],
   "source": [
    "# 番最初のレコードを取得し、そのレコードのnamaカラムを変更して更新する\n",
    "user = session.query(User).first()\n",
    "user.name = 'user_update_test'\n",
    "session.commit()"
   ]
  },
  {
   "cell_type": "code",
   "execution_count": 20,
   "metadata": {},
   "outputs": [
    {
     "name": "stdout",
     "output_type": "stream",
     "text": [
      "2022-10-26 22:00:40,609 INFO sqlalchemy.engine.Engine BEGIN (implicit)\n",
      "2022-10-26 22:00:40,610 INFO sqlalchemy.engine.Engine SELECT users.created AS users_created, users.modified AS users_modified, users.id AS users_id, users.name AS users_name, users.age AS users_age, users.email AS users_email \n",
      "FROM users\n",
      "2022-10-26 22:00:40,611 INFO sqlalchemy.engine.Engine [cached since 0.9099s ago] ()\n",
      "\n",
      "id name age email created_at updated_at\n",
      "1 user_update_test None None 2022-10-26 22:00:39.961979 2022-10-26 22:00:39.961985\n",
      "2 orange None None 2022-10-26 22:00:39.980566 2022-10-26 22:00:39.980573\n",
      "3 melon None None 2022-10-26 22:00:39.982331 2022-10-26 22:00:39.982333\n",
      "4 user0 None None 2022-10-26 22:00:39.983708 2022-10-26 22:00:39.983711\n",
      "5 user1 None None 2022-10-26 22:00:39.984717 2022-10-26 22:00:39.984718\n",
      "6 user2 None None 2022-10-26 22:00:39.985742 2022-10-26 22:00:39.985744\n",
      "7 user3 None None 2022-10-26 22:00:39.986681 2022-10-26 22:00:39.986683\n",
      "8 user4 None None 2022-10-26 22:00:39.987728 2022-10-26 22:00:39.987729\n",
      "9 user5 None None 2022-10-26 22:00:39.988864 2022-10-26 22:00:39.988865\n",
      "10 user6 None None 2022-10-26 22:00:39.990496 2022-10-26 22:00:39.990498\n",
      "11 user7 None None 2022-10-26 22:00:39.991259 2022-10-26 22:00:39.991260\n",
      "12 user8 None None 2022-10-26 22:00:39.991964 2022-10-26 22:00:39.991966\n",
      "13 user9 None None 2022-10-26 22:00:39.992659 2022-10-26 22:00:39.992660\n",
      "14 user10 None None 2022-10-26 22:00:39.993904 2022-10-26 22:00:39.993905\n"
     ]
    }
   ],
   "source": [
    "# usersテーブルのレコードを全て取得する\n",
    "users = session.query(User).all()\n",
    "print(\"\")\n",
    "print(\"id\",\"name\",\"age\",\"email\",\"created_at\",\"updated_at\")\n",
    "for user in users:\n",
    "    print(user.id,user.name,user.age,user.email,user.created_at,user.updated_at)"
   ]
  },
  {
   "cell_type": "code",
   "execution_count": 21,
   "metadata": {},
   "outputs": [
    {
     "name": "stdout",
     "output_type": "stream",
     "text": [
      "2022-10-26 22:00:40,652 INFO sqlalchemy.engine.Engine ROLLBACK\n"
     ]
    }
   ],
   "source": [
    "session.close()"
   ]
  },
  {
   "cell_type": "markdown",
   "metadata": {},
   "source": [
    "### Delete (Delete)"
   ]
  },
  {
   "cell_type": "code",
   "execution_count": 22,
   "metadata": {},
   "outputs": [
    {
     "name": "stdout",
     "output_type": "stream",
     "text": [
      "2022-10-26 22:00:40,725 INFO sqlalchemy.engine.Engine BEGIN (implicit)\n",
      "2022-10-26 22:00:40,726 INFO sqlalchemy.engine.Engine SELECT users.created AS users_created, users.modified AS users_modified, users.id AS users_id, users.name AS users_name, users.age AS users_age, users.email AS users_email \n",
      "FROM users\n",
      " LIMIT ? OFFSET ?\n",
      "2022-10-26 22:00:40,727 INFO sqlalchemy.engine.Engine [cached since 0.2228s ago] (1, 0)\n",
      "2022-10-26 22:00:40,737 INFO sqlalchemy.engine.Engine DELETE FROM users WHERE users.id = ?\n",
      "2022-10-26 22:00:40,738 INFO sqlalchemy.engine.Engine [generated in 0.00106s] (1,)\n",
      "2022-10-26 22:00:40,749 INFO sqlalchemy.engine.Engine COMMIT\n"
     ]
    }
   ],
   "source": [
    "user = session.query(User).first()\n",
    "\n",
    "session.delete(user)\n",
    "session.commit()"
   ]
  },
  {
   "cell_type": "code",
   "execution_count": 23,
   "metadata": {},
   "outputs": [
    {
     "name": "stdout",
     "output_type": "stream",
     "text": [
      "2022-10-26 22:00:40,789 INFO sqlalchemy.engine.Engine BEGIN (implicit)\n",
      "2022-10-26 22:00:40,790 INFO sqlalchemy.engine.Engine SELECT users.created AS users_created, users.modified AS users_modified, users.id AS users_id, users.name AS users_name, users.age AS users_age, users.email AS users_email \n",
      "FROM users\n",
      "2022-10-26 22:00:40,791 INFO sqlalchemy.engine.Engine [cached since 1.089s ago] ()\n",
      "\n",
      "id name age email created_at updated_at\n",
      "2 orange None None 2022-10-26 22:00:39.980566 2022-10-26 22:00:39.980573\n",
      "3 melon None None 2022-10-26 22:00:39.982331 2022-10-26 22:00:39.982333\n",
      "4 user0 None None 2022-10-26 22:00:39.983708 2022-10-26 22:00:39.983711\n",
      "5 user1 None None 2022-10-26 22:00:39.984717 2022-10-26 22:00:39.984718\n",
      "6 user2 None None 2022-10-26 22:00:39.985742 2022-10-26 22:00:39.985744\n",
      "7 user3 None None 2022-10-26 22:00:39.986681 2022-10-26 22:00:39.986683\n",
      "8 user4 None None 2022-10-26 22:00:39.987728 2022-10-26 22:00:39.987729\n",
      "9 user5 None None 2022-10-26 22:00:39.988864 2022-10-26 22:00:39.988865\n",
      "10 user6 None None 2022-10-26 22:00:39.990496 2022-10-26 22:00:39.990498\n",
      "11 user7 None None 2022-10-26 22:00:39.991259 2022-10-26 22:00:39.991260\n",
      "12 user8 None None 2022-10-26 22:00:39.991964 2022-10-26 22:00:39.991966\n",
      "13 user9 None None 2022-10-26 22:00:39.992659 2022-10-26 22:00:39.992660\n",
      "14 user10 None None 2022-10-26 22:00:39.993904 2022-10-26 22:00:39.993905\n"
     ]
    }
   ],
   "source": [
    "# usersテーブルのレコードを全て取得する\n",
    "users = session.query(User).all()\n",
    "print(\"\")\n",
    "print(\"id\",\"name\",\"age\",\"email\",\"created_at\",\"updated_at\")\n",
    "for user in users:\n",
    "    print(user.id,user.name,user.age,user.email,user.created_at,user.updated_at)"
   ]
  },
  {
   "cell_type": "code",
   "execution_count": 24,
   "metadata": {},
   "outputs": [
    {
     "name": "stdout",
     "output_type": "stream",
     "text": [
      "2022-10-26 22:00:40,833 INFO sqlalchemy.engine.Engine ROLLBACK\n"
     ]
    }
   ],
   "source": [
    "session.close()"
   ]
  },
  {
   "cell_type": "markdown",
   "metadata": {},
   "source": [
    "## WHERE"
   ]
  },
  {
   "cell_type": "code",
   "execution_count": 25,
   "metadata": {},
   "outputs": [
    {
     "name": "stdout",
     "output_type": "stream",
     "text": [
      "2022-10-26 22:00:40,907 INFO sqlalchemy.engine.Engine BEGIN (implicit)\n",
      "2022-10-26 22:00:40,909 INFO sqlalchemy.engine.Engine SELECT logs.id AS logs_id, logs.created AS logs_created, logs.user_id AS logs_user_id, logs.event_id AS logs_event_id \n",
      "FROM logs \n",
      "WHERE logs.user_id = ?\n",
      "2022-10-26 22:00:40,909 INFO sqlalchemy.engine.Engine [generated in 0.00077s] ('user3',)\n",
      "\n",
      "id name age email created_at updated_at\n",
      "8 user3 None 2022-10-26 22:00:40.231044\n",
      "12 user3 None 2022-10-26 22:00:40.238320\n",
      "18 user3 None 2022-10-26 22:00:40.244142\n"
     ]
    }
   ],
   "source": [
    "# SELECT * FROM logs WHERE user_id = 'user3';\n",
    "logs = session.query(AppLog).filter(AppLog.user_id == \"user3\").all()\n",
    "print(\"\")\n",
    "print(\"id\",\"name\",\"age\",\"email\",\"created_at\",\"updated_at\")\n",
    "for log in logs:\n",
    "    print(log.log_id,log.user_id,log.event_id,log.created_at)"
   ]
  },
  {
   "cell_type": "code",
   "execution_count": 26,
   "metadata": {},
   "outputs": [
    {
     "name": "stdout",
     "output_type": "stream",
     "text": [
      "2022-10-26 22:00:40,969 INFO sqlalchemy.engine.Engine SELECT logs.id AS logs_id, logs.created AS logs_created, logs.user_id AS logs_user_id, logs.event_id AS logs_event_id \n",
      "FROM logs \n",
      "WHERE logs.user_id = ?\n",
      "2022-10-26 22:00:40,970 INFO sqlalchemy.engine.Engine [cached since 0.06109s ago] ('user8',)\n",
      "\n",
      "id name age email created_at updated_at\n",
      "3 user8 None 2022-10-26 22:00:40.224695\n",
      "4 user8 None 2022-10-26 22:00:40.225348\n",
      "14 user8 None 2022-10-26 22:00:40.240326\n"
     ]
    }
   ],
   "source": [
    "# SELECT * FROM logs WHERE user_id = 'user3';\n",
    "logs = session.query(AppLog).filter(AppLog.user_id == \"user8\").all()\n",
    "print(\"\")\n",
    "print(\"id\",\"name\",\"age\",\"email\",\"created_at\",\"updated_at\")\n",
    "for log in logs:\n",
    "    print(log.log_id,log.user_id,log.event_id,log.created_at)"
   ]
  },
  {
   "cell_type": "markdown",
   "metadata": {},
   "source": [
    "## LIMIT"
   ]
  },
  {
   "cell_type": "code",
   "execution_count": 27,
   "metadata": {},
   "outputs": [
    {
     "name": "stdout",
     "output_type": "stream",
     "text": [
      "2022-10-26 22:00:41,017 INFO sqlalchemy.engine.Engine SELECT logs.id AS logs_id, logs.created AS logs_created, logs.user_id AS logs_user_id, logs.event_id AS logs_event_id \n",
      "FROM logs\n",
      " LIMIT ? OFFSET ?\n",
      "2022-10-26 22:00:41,018 INFO sqlalchemy.engine.Engine [generated in 0.00081s] (6, 0)\n",
      "\n",
      "id name age email created_at updated_at\n",
      "1 user7 None 2022-10-26 22:00:40.211336\n",
      "2 user4 None 2022-10-26 22:00:40.222985\n",
      "3 user8 None 2022-10-26 22:00:40.224695\n",
      "4 user8 None 2022-10-26 22:00:40.225348\n",
      "5 user6 None 2022-10-26 22:00:40.227489\n",
      "6 user1 None 2022-10-26 22:00:40.228272\n"
     ]
    }
   ],
   "source": [
    "# SELECT * FROM logs LIMIT 6;\n",
    "logs = session.query(AppLog).limit(6).all()\n",
    "\n",
    "print(\"\")\n",
    "print(\"id\",\"name\",\"age\",\"email\",\"created_at\",\"updated_at\")\n",
    "for log in logs:\n",
    "    print(log.log_id,log.user_id,log.event_id,log.created_at)"
   ]
  },
  {
   "cell_type": "markdown",
   "metadata": {},
   "source": [
    "## IN\n",
    "INは遅くなるので、使いすぎない方が良い"
   ]
  },
  {
   "cell_type": "code",
   "execution_count": 28,
   "metadata": {},
   "outputs": [
    {
     "name": "stdout",
     "output_type": "stream",
     "text": [
      "2022-10-26 22:00:41,060 INFO sqlalchemy.engine.Engine SELECT logs.id AS logs_id, logs.created AS logs_created, logs.user_id AS logs_user_id, logs.event_id AS logs_event_id \n",
      "FROM logs \n",
      "WHERE logs.user_id IN (?, ?, ?)\n",
      "2022-10-26 22:00:41,061 INFO sqlalchemy.engine.Engine [generated in 0.00086s] ('user1', 'user2', 'user3')\n",
      "\n",
      "id name age email created_at updated_at\n",
      "6 user1 None 2022-10-26 22:00:40.228272\n",
      "8 user3 None 2022-10-26 22:00:40.231044\n",
      "12 user3 None 2022-10-26 22:00:40.238320\n",
      "18 user3 None 2022-10-26 22:00:40.244142\n",
      "20 user2 None 2022-10-26 22:00:40.245834\n"
     ]
    }
   ],
   "source": [
    "# SELECT * FROM users WHERE name IN(\"taro\", \"jiro\", \"ichiro\");\n",
    "names = ['user1', 'user2', 'user3']\n",
    "logs = session.query(AppLog).filter(AppLog.user_id.in_(names)).all()\n",
    "print(\"\")\n",
    "print(\"id\",\"name\",\"age\",\"email\",\"created_at\",\"updated_at\")\n",
    "for log in logs:\n",
    "    print(log.log_id,log.user_id,log.event_id,log.created_at)"
   ]
  },
  {
   "cell_type": "markdown",
   "metadata": {},
   "source": [
    "## ORDER BY"
   ]
  },
  {
   "cell_type": "code",
   "execution_count": 29,
   "metadata": {},
   "outputs": [
    {
     "name": "stdout",
     "output_type": "stream",
     "text": [
      "2022-10-26 22:00:41,109 INFO sqlalchemy.engine.Engine SELECT users.created AS users_created, users.modified AS users_modified, users.id AS users_id, users.name AS users_name, users.age AS users_age, users.email AS users_email \n",
      "FROM users ORDER BY users.created DESC\n",
      "2022-10-26 22:00:41,112 INFO sqlalchemy.engine.Engine [generated in 0.00330s] ()\n",
      "\n",
      "id name age email created_at updated_at\n",
      "14 user10 None None 2022-10-26 22:00:39.993904 2022-10-26 22:00:39.993905\n",
      "13 user9 None None 2022-10-26 22:00:39.992659 2022-10-26 22:00:39.992660\n",
      "12 user8 None None 2022-10-26 22:00:39.991964 2022-10-26 22:00:39.991966\n",
      "11 user7 None None 2022-10-26 22:00:39.991259 2022-10-26 22:00:39.991260\n",
      "10 user6 None None 2022-10-26 22:00:39.990496 2022-10-26 22:00:39.990498\n",
      "9 user5 None None 2022-10-26 22:00:39.988864 2022-10-26 22:00:39.988865\n",
      "8 user4 None None 2022-10-26 22:00:39.987728 2022-10-26 22:00:39.987729\n",
      "7 user3 None None 2022-10-26 22:00:39.986681 2022-10-26 22:00:39.986683\n",
      "6 user2 None None 2022-10-26 22:00:39.985742 2022-10-26 22:00:39.985744\n",
      "5 user1 None None 2022-10-26 22:00:39.984717 2022-10-26 22:00:39.984718\n",
      "4 user0 None None 2022-10-26 22:00:39.983708 2022-10-26 22:00:39.983711\n",
      "3 melon None None 2022-10-26 22:00:39.982331 2022-10-26 22:00:39.982333\n",
      "2 orange None None 2022-10-26 22:00:39.980566 2022-10-26 22:00:39.980573\n"
     ]
    }
   ],
   "source": [
    "# SELECT * FROM users ORDER BY users.created_at DESC;\n",
    "users = session.query(User).order_by(desc(User.created_at)).all()\n",
    "print(\"\")\n",
    "print(\"id\",\"name\",\"age\",\"email\",\"created_at\",\"updated_at\")\n",
    "for user in users:\n",
    "    print(user.id,user.name,user.age,user.email,user.created_at,user.updated_at)"
   ]
  },
  {
   "cell_type": "markdown",
   "metadata": {},
   "source": [
    "## DISTINCT\n"
   ]
  },
  {
   "cell_type": "code",
   "execution_count": 30,
   "metadata": {},
   "outputs": [],
   "source": [
    "from sqlalchemy import distinct"
   ]
  },
  {
   "cell_type": "code",
   "execution_count": 31,
   "metadata": {},
   "outputs": [
    {
     "name": "stdout",
     "output_type": "stream",
     "text": [
      "2022-10-26 22:00:41,206 INFO sqlalchemy.engine.Engine SELECT DISTINCT logs.user_id \n",
      "FROM logs\n",
      "2022-10-26 22:00:41,207 INFO sqlalchemy.engine.Engine [generated in 0.00178s] ()\n",
      "\n",
      "log_user_name\n",
      "user7\n",
      "user4\n",
      "user8\n",
      "user6\n",
      "user1\n",
      "user3\n",
      "user0\n",
      "user10\n",
      "user9\n",
      "user5\n",
      "user2\n"
     ]
    }
   ],
   "source": [
    "# SELECT DISTINCT name from users;\n",
    "user_name = session.query(distinct(AppLog.user_id)).all()\n",
    "print(\"\")\n",
    "print(\"log_user_name\")\n",
    "for user in user_name:\n",
    "    print(user[0])"
   ]
  },
  {
   "cell_type": "code",
   "execution_count": 32,
   "metadata": {},
   "outputs": [
    {
     "name": "stdout",
     "output_type": "stream",
     "text": [
      "2022-10-26 22:00:41,258 INFO sqlalchemy.engine.Engine ROLLBACK\n"
     ]
    }
   ],
   "source": [
    "session.close()"
   ]
  },
  {
   "cell_type": "markdown",
   "metadata": {},
   "source": [
    "## JOIN (INNER JOIN)"
   ]
  },
  {
   "cell_type": "code",
   "execution_count": null,
   "metadata": {},
   "outputs": [],
   "source": [
    "# SELECT * from users inner join user_socials on users.id = user_socials.id;\n",
    "user_logs = session.query(User, AppLog)\\\n",
    "    .join(AppLog, User.id == AppLog.user_id)\\\n",
    "    .all()\n",
    "for user_log in user_logs:\n",
    "    print(user_log.users_name)"
   ]
  },
  {
   "cell_type": "markdown",
   "metadata": {},
   "source": [
    "## LEFT JOIN"
   ]
  },
  {
   "cell_type": "code",
   "execution_count": null,
   "metadata": {},
   "outputs": [],
   "source": [
    "# SELECT * from users letf outer join user_socials on users.id = user_socials.id;\n",
    "user_logs = session.query(AppLog,User).outerjoin(User, AppLog.user_id==User.id).all()\n",
    "print(\"\")\n",
    "# print(\"id\",\"user_id\",\"event_id\",\"created_at\")\n",
    "for user_log in user_logs:\n",
    "    # print(user_log)\n",
    "    print(\n",
    "        # user_log.AppLog.created_at,\n",
    "        # user_log.AppLog.user_id,\n",
    "        user_log.User.id\n",
    "        # user_log.User.name\n",
    "    )"
   ]
  },
  {
   "cell_type": "code",
   "execution_count": null,
   "metadata": {},
   "outputs": [],
   "source": [
    "user_logs.column_descriptions"
   ]
  },
  {
   "cell_type": "markdown",
   "metadata": {},
   "source": [
    "## UNION"
   ]
  },
  {
   "cell_type": "code",
   "execution_count": null,
   "metadata": {
    "vscode": {
     "languageId": "sql"
    }
   },
   "outputs": [],
   "source": [
    "SELECT * FROM tags\n",
    "UNION\n",
    "SELECT * FROM genres;"
   ]
  },
  {
   "cell_type": "code",
   "execution_count": null,
   "metadata": {},
   "outputs": [],
   "source": [
    "tag_genre = session.query(Tag).\\\n",
    "    union(session.query(Genre)).\\\n",
    "    all()"
   ]
  },
  {
   "cell_type": "markdown",
   "metadata": {},
   "source": [
    "## UNION ALL"
   ]
  },
  {
   "cell_type": "code",
   "execution_count": null,
   "metadata": {},
   "outputs": [],
   "source": [
    "SELECT * FROM tags\n",
    "UNION ALL\n",
    "SELECT * FROM genres;"
   ]
  },
  {
   "cell_type": "code",
   "execution_count": null,
   "metadata": {},
   "outputs": [],
   "source": [
    "tag_genre = session.query(Tag).\\\n",
    "    union_all(session.query(Genre)).\\\n",
    "    all()"
   ]
  },
  {
   "cell_type": "markdown",
   "metadata": {},
   "source": [
    "## 直接SQL文を実行\n",
    "ORMが生成したSQLが処理の負担になり、パフォーマンスの低下を招くこともあるため、直接SQLを入力して実行することもできる"
   ]
  },
  {
   "cell_type": "code",
   "execution_count": null,
   "metadata": {},
   "outputs": [],
   "source": [
    "# 直接SQLを実行\n",
    "result = Engine.execute(\"select * from users\")\n",
    "\n",
    "for row in result:\n",
    "    print(row)"
   ]
  },
  {
   "cell_type": "markdown",
   "metadata": {},
   "source": [
    "## 吐き出されるSQLを取得\n",
    "ORMを実行した際の実際に生成されたSQLのログを取得することもできる"
   ]
  },
  {
   "cell_type": "code",
   "execution_count": null,
   "metadata": {},
   "outputs": [],
   "source": [
    "user_name = session.query(User)\n",
    "sql_statement = user_name.statement\n",
    "\n",
    "print(sql_statement)"
   ]
  }
 ],
 "metadata": {
  "kernelspec": {
   "display_name": "Python 3.10.6 ('base')",
   "language": "python",
   "name": "python3"
  },
  "language_info": {
   "codemirror_mode": {
    "name": "ipython",
    "version": 3
   },
   "file_extension": ".py",
   "mimetype": "text/x-python",
   "name": "python",
   "nbconvert_exporter": "python",
   "pygments_lexer": "ipython3",
   "version": "3.10.6"
  },
  "orig_nbformat": 4,
  "vscode": {
   "interpreter": {
    "hash": "d4d1e4263499bec80672ea0156c357c1ee493ec2b1c70f0acce89fc37c4a6abe"
   }
  }
 },
 "nbformat": 4,
 "nbformat_minor": 2
}
