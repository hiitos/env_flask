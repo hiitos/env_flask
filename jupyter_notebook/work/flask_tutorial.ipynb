{
 "cells": [
  {
   "cell_type": "markdown",
   "metadata": {},
   "source": [
    "# Flask->SQLAlchemy->DB接続テスト"
   ]
  },
  {
   "cell_type": "code",
   "execution_count": 1,
   "metadata": {},
   "outputs": [],
   "source": [
    "# pip install flask"
   ]
  },
  {
   "cell_type": "code",
   "execution_count": 2,
   "metadata": {},
   "outputs": [],
   "source": [
    "# pip install flask_restful"
   ]
  },
  {
   "cell_type": "code",
   "execution_count": 3,
   "metadata": {},
   "outputs": [],
   "source": [
    "# pip install flask_sqlalchemy"
   ]
  },
  {
   "cell_type": "code",
   "execution_count": 4,
   "metadata": {},
   "outputs": [],
   "source": [
    "import numpy as np\n",
    "import pandas  as pd\n",
    "import requests\n",
    "import json\n",
    "\n",
    "from flask_restful import Api, Resource\n",
    "from flask import Flask, Blueprint, request ,render_template, jsonify\n",
    "import flask\n",
    "import json"
   ]
  },
  {
   "cell_type": "code",
   "execution_count": 5,
   "metadata": {},
   "outputs": [],
   "source": [
    "from sqlalchemy import create_engine, Column, Integer, String, Time\n",
    "from sqlalchemy.dialects.mysql import TIMESTAMP as Timestamp\n",
    "from sqlalchemy.ext.declarative import declarative_base\n",
    "from sqlalchemy.orm import sessionmaker, scoped_session\n",
    "import sqlalchemy\n",
    "from flask_sqlalchemy import SQLAlchemy"
   ]
  },
  {
   "cell_type": "markdown",
   "metadata": {},
   "source": [
    "## 起動確認"
   ]
  },
  {
   "cell_type": "code",
   "execution_count": 3,
   "metadata": {},
   "outputs": [
    {
     "name": "stdout",
     "output_type": "stream",
     "text": [
      " * Serving Flask app '__main__'\n",
      " * Debug mode: off\n"
     ]
    },
    {
     "name": "stderr",
     "output_type": "stream",
     "text": [
      "WARNING: This is a development server. Do not use it in a production deployment. Use a production WSGI server instead.\n",
      " * Running on http://127.0.0.1:12345\n",
      "Press CTRL+C to quit\n",
      "127.0.0.1 - - [27/Oct/2022 06:08:59] \"GET / HTTP/1.1\" 200 -\n"
     ]
    }
   ],
   "source": [
    "app = Flask(__name__)\n",
    "\n",
    "@app.route(\"/\")\n",
    "def hello_world():\n",
    "    return \"<p>!Flask from Jupyter Notebook!</p>\"\n",
    "\n",
    "app.run(port=12345, debug=False)"
   ]
  },
  {
   "cell_type": "markdown",
   "metadata": {},
   "source": [
    "## テスト用のデータベースに接続\n",
    "*sqlalchemy_tutorial.ipynbを実行した後に行うこと(dbが作成されないため)"
   ]
  },
  {
   "cell_type": "code",
   "execution_count": 6,
   "metadata": {},
   "outputs": [],
   "source": [
    "# データベースの設定を読み込む\n",
    "from test_db_setting import engine,Base\n",
    "from test_db_careate_table import User,AppLog"
   ]
  },
  {
   "cell_type": "code",
   "execution_count": null,
   "metadata": {},
   "outputs": [],
   "source": [
    "import datetime\n",
    "\n",
    "def strftime(p_datetime):\n",
    "    \"\"\"\n",
    "    stringを返却\n",
    "    \"\"\"\n",
    "    print(f\"strftime {type(p_datetime)}\")\n",
    "    if (type(p_datetime) == \"datetime.datetime\"):\n",
    "        return str(p_datetime.strftime(\"%Y-%m-%d %H:%M:%S\"))\n",
    "    if (type(p_datetime) == \"NoneType\"):\n",
    "        return \"\"\n",
    "    else:\n",
    "        return str(p_datetime)\n",
    "\n",
    "def strptime(string_time):\n",
    "    \"\"\"\n",
    "    datetimeを返却\n",
    "    \"\"\"\n",
    "    print(f\"strptime {type(string_time)}\")\n",
    "    if (type(string_time) == \"datetime.datetime\"):\n",
    "        return string_time\n",
    "    elif (type(string_time) == \"str\"):\n",
    "        print(f\"common.strptime string_time={string_time}\")\n",
    "        return datetime.datetime.strptime(string_time, \"%Y-%m-%d %H:%M:%S\")\n",
    "    else:\n",
    "        print(f\"common.strptime not string_time={string_time}\")\n",
    "        return datetime.datetime.strptime(string_time, \"%Y-%m-%d %H:%M:%S\")"
   ]
  },
  {
   "cell_type": "markdown",
   "metadata": {},
   "source": [
    "## GET"
   ]
  },
  {
   "cell_type": "code",
   "execution_count": null,
   "metadata": {},
   "outputs": [],
   "source": []
  },
  {
   "cell_type": "markdown",
   "metadata": {},
   "source": [
    "## POST"
   ]
  },
  {
   "cell_type": "code",
   "execution_count": null,
   "metadata": {},
   "outputs": [],
   "source": []
  },
  {
   "cell_type": "markdown",
   "metadata": {},
   "source": [
    "## FlaskからのUserデータの参照"
   ]
  },
  {
   "cell_type": "markdown",
   "metadata": {},
   "source": [
    "### <span style=\"color:orange\">(1)getAccountの関数</span>\n",
    "↓呼び出し\n",
    "### <span style=\"color:orange\">(2)ConvertToJsonの関数</span>\n",
    "↓呼び出し\n",
    "### <span style=\"color:orange\">(3)getDataの関数の概要</span>\n",
    "SQLAlchemyでデータベースに接続し、  \n",
    "user_idでuserテーブルを検索をし、該当したUserオブジェクト群を取得する  \n",
    "\n",
    "- Parameters\n",
    "  - user_id : 検索対象のアカウントid(int)\n",
    "  - operation_user_id : Webアプリケーション操作ユーザーのアカウントid(int)\n",
    "- Returns\n",
    "  - userオブジェクトのリスト\n",
    "\n",
    "↓return\n",
    "### <span style=\"color:orange\">(4)ConvertToJsonの関数の概要</span>\n",
    "getDataの関数のreturnをjson形式に変換\n",
    "\n",
    "- Parameters\n",
    "  - user_id : 検索するアカウントのアカウントID(int)\n",
    "  - operation_user_id : Webアプリケーション操作アカウントのID(int)\n",
    "- Returns\n",
    "  - result_json_dict(json形式のdict型取得したアカウント情報)\n",
    "```\n",
    "{\n",
    "  \"body\": {\n",
    "    \"name\": \"user\",\n",
    "    \"id\": <User.id>,\n",
    "    \"user_name\": <User.name>,\n",
    "    \"created_at\": <User.created_at>,\n",
    "    \"updated_at\": <User.updated_at>\n",
    "},\n",
    "  \"status\": {\n",
    "    \"code\" : \"I0001\",\n",
    "    \"message\" : \"\",\n",
    "    \"detail\" : \"\"\n",
    "  }\n",
    "}\n",
    "```\n",
    "↓return\n",
    "### <span style=\"color:orange\">(5)getAccountの関数の概要</span>\n",
    "ConvertToJsonの関数のreturnのdict型のデータをjsonifyでよしなにjsonに変換する\n",
    "\n",
    "<br>\n",
    "\n",
    "*json.dumpとの違い  \n",
    "headerのcontent-typeを指定しなくていい。  \n",
    "→flask使うならめんどくさいことしなくていい  "
   ]
  },
  {
   "cell_type": "code",
   "execution_count": 15,
   "metadata": {},
   "outputs": [],
   "source": [
    "def getData(user_id, operation_user_id):\n",
    "    Session = sessionmaker(bind=engine)\n",
    "    ses = Session()\n",
    "    \n",
    "    res = ses.query(User).get(user_id)\n",
    "    ses.close()\n",
    "    return res"
   ]
  },
  {
   "cell_type": "code",
   "execution_count": 18,
   "metadata": {},
   "outputs": [],
   "source": [
    "def ConvertToJson(user_id, operation_user_id):\n",
    "    result = getData(user_id, operation_user_id)\n",
    "    # TODO モデルの検索結果(正常・異常)によってレスポンスの出力内容を変える\n",
    "    result_json_dict = {\n",
    "        \"body\": {\n",
    "            \"name\": \"user\",\n",
    "            \"id\": user_id,\n",
    "            \"user_name\": result.name,\n",
    "            \"created_at\": result.created_at.strftime(\"%Y-%m-%d %H:%M:%S\"),\n",
    "            \"updated_at\": result.updated_at.strftime(\"%Y-%m-%d %H:%M:%S\")\n",
    "        },\n",
    "        \"status\": {\n",
    "            \"code\" : \"I0001\",\n",
    "            \"message\" : \"successful!\",\n",
    "            \"detail\" : \"\"\n",
    "        }\n",
    "    }\n",
    "    return result_json_dict\n"
   ]
  },
  {
   "cell_type": "code",
   "execution_count": 21,
   "metadata": {},
   "outputs": [],
   "source": [
    "system_account_id=999\n",
    "\n",
    "app = Flask(__name__)\n",
    "@app.route('/account/get/<id>', methods=['GET'])\n",
    "def getAccount(id):\n",
    "    account_json = ConvertToJson(id, system_account_id)\n",
    "    return jsonify(account_json)"
   ]
  },
  {
   "cell_type": "code",
   "execution_count": 22,
   "metadata": {},
   "outputs": [
    {
     "name": "stdout",
     "output_type": "stream",
     "text": [
      " * Serving Flask app '__main__'\n",
      " * Debug mode: off\n"
     ]
    },
    {
     "name": "stderr",
     "output_type": "stream",
     "text": [
      "WARNING: This is a development server. Do not use it in a production deployment. Use a production WSGI server instead.\n",
      " * Running on http://127.0.0.1:12345\n",
      "Press CTRL+C to quit\n",
      "127.0.0.1 - - [27/Oct/2022 10:25:56] \"GET / HTTP/1.1\" 404 -\n",
      "127.0.0.1 - - [27/Oct/2022 10:26:01] \"GET / HTTP/1.1\" 404 -\n"
     ]
    },
    {
     "name": "stdout",
     "output_type": "stream",
     "text": [
      "2022-10-27 10:26:30,398 INFO sqlalchemy.engine.Engine BEGIN (implicit)\n",
      "2022-10-27 10:26:30,403 INFO sqlalchemy.engine.Engine SELECT users.created AS users_created, users.modified AS users_modified, users.id AS users_id, users.name AS users_name, users.age AS users_age, users.email AS users_email \n",
      "FROM users \n",
      "WHERE users.id = ?\n",
      "2022-10-27 10:26:30,405 INFO sqlalchemy.engine.Engine [cached since 312.4s ago] ('4',)\n",
      "2022-10-27 10:26:30,428 INFO sqlalchemy.engine.Engine ROLLBACK\n"
     ]
    },
    {
     "name": "stderr",
     "output_type": "stream",
     "text": [
      "127.0.0.1 - - [27/Oct/2022 10:26:30] \"GET /account/get/4 HTTP/1.1\" 200 -\n"
     ]
    },
    {
     "name": "stdout",
     "output_type": "stream",
     "text": [
      "2022-10-27 10:26:35,152 INFO sqlalchemy.engine.Engine BEGIN (implicit)\n",
      "2022-10-27 10:26:35,155 INFO sqlalchemy.engine.Engine SELECT users.created AS users_created, users.modified AS users_modified, users.id AS users_id, users.name AS users_name, users.age AS users_age, users.email AS users_email \n",
      "FROM users \n",
      "WHERE users.id = ?\n",
      "2022-10-27 10:26:35,157 INFO sqlalchemy.engine.Engine [cached since 317.2s ago] ('2',)\n",
      "2022-10-27 10:26:35,181 INFO sqlalchemy.engine.Engine ROLLBACK\n"
     ]
    },
    {
     "name": "stderr",
     "output_type": "stream",
     "text": [
      "127.0.0.1 - - [27/Oct/2022 10:26:35] \"GET /account/get/2 HTTP/1.1\" 200 -\n"
     ]
    },
    {
     "name": "stdout",
     "output_type": "stream",
     "text": [
      "2022-10-27 10:26:41,475 INFO sqlalchemy.engine.Engine BEGIN (implicit)\n",
      "2022-10-27 10:26:41,478 INFO sqlalchemy.engine.Engine SELECT users.created AS users_created, users.modified AS users_modified, users.id AS users_id, users.name AS users_name, users.age AS users_age, users.email AS users_email \n",
      "FROM users \n",
      "WHERE users.id = ?\n",
      "2022-10-27 10:26:41,481 INFO sqlalchemy.engine.Engine [cached since 323.5s ago] ('6',)\n",
      "2022-10-27 10:26:41,496 INFO sqlalchemy.engine.Engine ROLLBACK\n"
     ]
    },
    {
     "name": "stderr",
     "output_type": "stream",
     "text": [
      "127.0.0.1 - - [27/Oct/2022 10:26:41] \"GET /account/get/6 HTTP/1.1\" 200 -\n"
     ]
    },
    {
     "name": "stdout",
     "output_type": "stream",
     "text": [
      "2022-10-27 10:26:45,634 INFO sqlalchemy.engine.Engine BEGIN (implicit)\n",
      "2022-10-27 10:26:45,637 INFO sqlalchemy.engine.Engine SELECT users.created AS users_created, users.modified AS users_modified, users.id AS users_id, users.name AS users_name, users.age AS users_age, users.email AS users_email \n",
      "FROM users \n",
      "WHERE users.id = ?\n",
      "2022-10-27 10:26:45,639 INFO sqlalchemy.engine.Engine [cached since 327.7s ago] ('2',)\n",
      "2022-10-27 10:26:45,658 INFO sqlalchemy.engine.Engine ROLLBACK\n"
     ]
    },
    {
     "name": "stderr",
     "output_type": "stream",
     "text": [
      "127.0.0.1 - - [27/Oct/2022 10:26:45] \"GET /account/get/2 HTTP/1.1\" 200 -\n"
     ]
    },
    {
     "name": "stdout",
     "output_type": "stream",
     "text": [
      "2022-10-27 10:26:49,494 INFO sqlalchemy.engine.Engine BEGIN (implicit)\n",
      "2022-10-27 10:26:49,499 INFO sqlalchemy.engine.Engine SELECT users.created AS users_created, users.modified AS users_modified, users.id AS users_id, users.name AS users_name, users.age AS users_age, users.email AS users_email \n",
      "FROM users \n",
      "WHERE users.id = ?\n",
      "2022-10-27 10:26:49,500 INFO sqlalchemy.engine.Engine [cached since 331.5s ago] ('1',)\n",
      "2022-10-27 10:26:49,517 INFO sqlalchemy.engine.Engine ROLLBACK\n"
     ]
    },
    {
     "name": "stderr",
     "output_type": "stream",
     "text": [
      "[2022-10-27 10:26:49,529] ERROR in app: Exception on /account/get/1 [GET]\n",
      "Traceback (most recent call last):\n",
      "  File \"/opt/conda/lib/python3.10/site-packages/flask/app.py\", line 2525, in wsgi_app\n",
      "    response = self.full_dispatch_request()\n",
      "  File \"/opt/conda/lib/python3.10/site-packages/flask/app.py\", line 1822, in full_dispatch_request\n",
      "    rv = self.handle_user_exception(e)\n",
      "  File \"/opt/conda/lib/python3.10/site-packages/flask/app.py\", line 1820, in full_dispatch_request\n",
      "    rv = self.dispatch_request()\n",
      "  File \"/opt/conda/lib/python3.10/site-packages/flask/app.py\", line 1796, in dispatch_request\n",
      "    return self.ensure_sync(self.view_functions[rule.endpoint])(**view_args)\n",
      "  File \"/tmp/ipykernel_14895/3705283127.py\", line 9, in getAccount\n",
      "    account_json = ConvertToJson(id, system_account_id)\n",
      "  File \"/tmp/ipykernel_14895/3801739938.py\", line 38, in ConvertToJson\n",
      "    \"user_name\": result.name,\n",
      "AttributeError: 'NoneType' object has no attribute 'name'\n",
      "127.0.0.1 - - [27/Oct/2022 10:26:49] \"GET /account/get/1 HTTP/1.1\" 500 -\n"
     ]
    },
    {
     "name": "stdout",
     "output_type": "stream",
     "text": [
      "2022-10-27 10:26:55,458 INFO sqlalchemy.engine.Engine BEGIN (implicit)\n",
      "2022-10-27 10:26:55,460 INFO sqlalchemy.engine.Engine SELECT users.created AS users_created, users.modified AS users_modified, users.id AS users_id, users.name AS users_name, users.age AS users_age, users.email AS users_email \n",
      "FROM users \n",
      "WHERE users.id = ?\n",
      "2022-10-27 10:26:55,469 INFO sqlalchemy.engine.Engine [cached since 337.5s ago] ('13',)\n",
      "2022-10-27 10:26:55,480 INFO sqlalchemy.engine.Engine ROLLBACK\n"
     ]
    },
    {
     "name": "stderr",
     "output_type": "stream",
     "text": [
      "127.0.0.1 - - [27/Oct/2022 10:26:55] \"GET /account/get/13 HTTP/1.1\" 200 -\n"
     ]
    }
   ],
   "source": [
    "app.run(port=12345, debug=False)"
   ]
  },
  {
   "cell_type": "markdown",
   "metadata": {},
   "source": [
    "## Flaskからのデータのinsert"
   ]
  },
  {
   "cell_type": "markdown",
   "metadata": {},
   "source": [
    "### <span style=\"color:orange\">(1)createAccountの関数の概要</span>\n",
    "flaskのrequestで.jsonして読み込みし、payload変数に格納\n",
    "\n",
    "↓呼び出し\n",
    "### <span style=\"color:orange\">(2)createJsonの関数の概要</span>\n",
    "jsonをdictに格納\n",
    "\n",
    "↓呼び出し\n",
    "### <span style=\"color:orange\">(3)insertDataの関数の概要</span>\n",
    "dictをSQLAlchemyでデータベースにaddする.  \n",
    "できたらTrue.  \n",
    "できなかったら保留状態を破棄して、データベースへの反映は全くせず,Falseを返す\n",
    "\n",
    "↓return\n",
    "### <span style=\"color:orange\">(4)createJsonの関数の概要</span>\n",
    "True,Falseでstatusのcodeを格納し、dict型でreturn\n",
    "\n",
    "↓return\n",
    "### <span style=\"color:orange\">(5)createAccountの関数の概要</span>\n",
    "dict型のデータをjsonifyでよしなにjsonに変換"
   ]
  },
  {
   "cell_type": "code",
   "execution_count": 29,
   "metadata": {},
   "outputs": [],
   "source": [
    "import datetime"
   ]
  },
  {
   "cell_type": "code",
   "execution_count": 30,
   "metadata": {},
   "outputs": [],
   "source": [
    "def insertData(user_dict, operation_user_id):\n",
    "    user = User()\n",
    "    user.id = user_dict['user_id']\n",
    "    user.name = user_dict['user_name']\n",
    "    user.created_at = user_dict['created_at']\n",
    "    user.updated_at = user_dict['updated_at']\n",
    "    # user.status = user_dict['status']\n",
    "    Session = sessionmaker(bind=engine)\n",
    "    ses = Session()\n",
    "    ses.begin()\n",
    "    try:\n",
    "        ses.add(user)\n",
    "        ses.commit()\n",
    "        res = True\n",
    "    except:\n",
    "        ses.rollback()\n",
    "        res = False\n",
    "    finally:\n",
    "        ses.close()\n",
    "    return res"
   ]
  },
  {
   "cell_type": "code",
   "execution_count": 31,
   "metadata": {},
   "outputs": [],
   "source": [
    "def createJson(user_request, operation_user_id):\n",
    "    user = {\n",
    "        'user_id' : user_request['user_id'],\n",
    "        'user_name' : str(user_request['user_name']),\n",
    "        'created_at' : datetime.datetime.now(),\n",
    "        'updated_at' : datetime.datetime.now(),\n",
    "        # 'status' :  Status.getStatusKey(\"NEW\")\n",
    "    }\n",
    "\n",
    "    try:\n",
    "        if insertData(user, operation_user_id) == True:\n",
    "            code=\"I0001\"\n",
    "            message=\"Created user Succesfuly.\"\n",
    "        else:\n",
    "            code=\"E0001\"\n",
    "            message=\"\"\n",
    "    except:\n",
    "        code=\"E0009\"\n",
    "        message=\"Created failed\"\n",
    "\n",
    "    result_json = {\n",
    "        \"body\": \"\",\n",
    "        \"status\": {\n",
    "            \"code\" : code,\n",
    "            \"message\" : message,\n",
    "            \"detail\" : \"\"\n",
    "        }\n",
    "    }\n",
    "    return result_json"
   ]
  },
  {
   "cell_type": "code",
   "execution_count": 32,
   "metadata": {},
   "outputs": [
    {
     "ename": "AssertionError",
     "evalue": "View function mapping is overwriting an existing endpoint function: createAccount",
     "output_type": "error",
     "traceback": [
      "\u001b[0;31m---------------------------------------------------------------------------\u001b[0m",
      "\u001b[0;31mAssertionError\u001b[0m                            Traceback (most recent call last)",
      "Cell \u001b[0;32mIn [32], line 2\u001b[0m\n\u001b[1;32m      1\u001b[0m \u001b[38;5;129;43m@app\u001b[39;49m\u001b[38;5;241;43m.\u001b[39;49m\u001b[43mroute\u001b[49m\u001b[43m(\u001b[49m\u001b[38;5;124;43m'\u001b[39;49m\u001b[38;5;124;43m/account/create\u001b[39;49m\u001b[38;5;124;43m'\u001b[39;49m\u001b[43m,\u001b[49m\u001b[43m \u001b[49m\u001b[43mmethods\u001b[49m\u001b[38;5;241;43m=\u001b[39;49m\u001b[43m[\u001b[49m\u001b[38;5;124;43m'\u001b[39;49m\u001b[38;5;124;43mPOST\u001b[39;49m\u001b[38;5;124;43m'\u001b[39;49m\u001b[43m]\u001b[49m\u001b[43m)\u001b[49m\n\u001b[0;32m----> 2\u001b[0m \u001b[38;5;28;43;01mdef\u001b[39;49;00m\u001b[43m \u001b[49m\u001b[38;5;21;43mcreateAccount\u001b[39;49m\u001b[43m(\u001b[49m\u001b[43m)\u001b[49m\u001b[43m:\u001b[49m\n\u001b[1;32m      3\u001b[0m \u001b[43m    \u001b[49m\u001b[38;5;66;43;03m#payload = request.data.decode('utf-8')\u001b[39;49;00m\n\u001b[1;32m      4\u001b[0m \u001b[43m    \u001b[49m\u001b[43mpayload\u001b[49m\u001b[43m \u001b[49m\u001b[38;5;241;43m=\u001b[39;49m\u001b[43m \u001b[49m\u001b[43mrequest\u001b[49m\u001b[38;5;241;43m.\u001b[39;49m\u001b[43mjson\u001b[49m\n\u001b[1;32m      5\u001b[0m \u001b[43m    \u001b[49m\u001b[38;5;28;43mprint\u001b[39;49m\u001b[43m(\u001b[49m\u001b[38;5;124;43mf\u001b[39;49m\u001b[38;5;124;43m\"\u001b[39;49m\u001b[38;5;124;43mpayload=\u001b[39;49m\u001b[38;5;132;43;01m{\u001b[39;49;00m\u001b[43mpayload\u001b[49m\u001b[38;5;132;43;01m}\u001b[39;49;00m\u001b[38;5;124;43m\"\u001b[39;49m\u001b[43m)\u001b[49m\n",
      "File \u001b[0;32m/opt/conda/lib/python3.10/site-packages/flask/scaffold.py:449\u001b[0m, in \u001b[0;36mScaffold.route.<locals>.decorator\u001b[0;34m(f)\u001b[0m\n\u001b[1;32m    447\u001b[0m \u001b[39mdef\u001b[39;00m \u001b[39mdecorator\u001b[39m(f: T_route) \u001b[39m-\u001b[39m\u001b[39m>\u001b[39m T_route:\n\u001b[1;32m    448\u001b[0m     endpoint \u001b[39m=\u001b[39m options\u001b[39m.\u001b[39mpop(\u001b[39m\"\u001b[39m\u001b[39mendpoint\u001b[39m\u001b[39m\"\u001b[39m, \u001b[39mNone\u001b[39;00m)\n\u001b[0;32m--> 449\u001b[0m     \u001b[39mself\u001b[39;49m\u001b[39m.\u001b[39;49madd_url_rule(rule, endpoint, f, \u001b[39m*\u001b[39;49m\u001b[39m*\u001b[39;49moptions)\n\u001b[1;32m    450\u001b[0m     \u001b[39mreturn\u001b[39;00m f\n",
      "File \u001b[0;32m/opt/conda/lib/python3.10/site-packages/flask/scaffold.py:50\u001b[0m, in \u001b[0;36msetupmethod.<locals>.wrapper_func\u001b[0;34m(self, *args, **kwargs)\u001b[0m\n\u001b[1;32m     48\u001b[0m \u001b[39mdef\u001b[39;00m \u001b[39mwrapper_func\u001b[39m(\u001b[39mself\u001b[39m, \u001b[39m*\u001b[39margs: t\u001b[39m.\u001b[39mAny, \u001b[39m*\u001b[39m\u001b[39m*\u001b[39mkwargs: t\u001b[39m.\u001b[39mAny) \u001b[39m-\u001b[39m\u001b[39m>\u001b[39m t\u001b[39m.\u001b[39mAny:\n\u001b[1;32m     49\u001b[0m     \u001b[39mself\u001b[39m\u001b[39m.\u001b[39m_check_setup_finished(f_name)\n\u001b[0;32m---> 50\u001b[0m     \u001b[39mreturn\u001b[39;00m f(\u001b[39mself\u001b[39;49m, \u001b[39m*\u001b[39;49margs, \u001b[39m*\u001b[39;49m\u001b[39m*\u001b[39;49mkwargs)\n",
      "File \u001b[0;32m/opt/conda/lib/python3.10/site-packages/flask/app.py:1358\u001b[0m, in \u001b[0;36mFlask.add_url_rule\u001b[0;34m(self, rule, endpoint, view_func, provide_automatic_options, **options)\u001b[0m\n\u001b[1;32m   1356\u001b[0m old_func \u001b[39m=\u001b[39m \u001b[39mself\u001b[39m\u001b[39m.\u001b[39mview_functions\u001b[39m.\u001b[39mget(endpoint)\n\u001b[1;32m   1357\u001b[0m \u001b[39mif\u001b[39;00m old_func \u001b[39mis\u001b[39;00m \u001b[39mnot\u001b[39;00m \u001b[39mNone\u001b[39;00m \u001b[39mand\u001b[39;00m old_func \u001b[39m!=\u001b[39m view_func:\n\u001b[0;32m-> 1358\u001b[0m     \u001b[39mraise\u001b[39;00m \u001b[39mAssertionError\u001b[39;00m(\n\u001b[1;32m   1359\u001b[0m         \u001b[39m\"\u001b[39m\u001b[39mView function mapping is overwriting an existing\u001b[39m\u001b[39m\"\u001b[39m\n\u001b[1;32m   1360\u001b[0m         \u001b[39mf\u001b[39m\u001b[39m\"\u001b[39m\u001b[39m endpoint function: \u001b[39m\u001b[39m{\u001b[39;00mendpoint\u001b[39m}\u001b[39;00m\u001b[39m\"\u001b[39m\n\u001b[1;32m   1361\u001b[0m     )\n\u001b[1;32m   1362\u001b[0m \u001b[39mself\u001b[39m\u001b[39m.\u001b[39mview_functions[endpoint] \u001b[39m=\u001b[39m view_func\n",
      "\u001b[0;31mAssertionError\u001b[0m: View function mapping is overwriting an existing endpoint function: createAccount"
     ]
    }
   ],
   "source": [
    "@app.route('/account/create', methods=['POST'])\n",
    "def createAccount():\n",
    "    #payload = request.data.decode('utf-8')\n",
    "    payload = request.json\n",
    "    print(f\"payload={payload}\")\n",
    "    response_json = createJson(payload, system_account_id)\n",
    "    return jsonify(response_json)\n"
   ]
  },
  {
   "cell_type": "code",
   "execution_count": 37,
   "metadata": {},
   "outputs": [
    {
     "name": "stdout",
     "output_type": "stream",
     "text": [
      " * Serving Flask app '__main__'\n",
      " * Debug mode: off\n"
     ]
    },
    {
     "name": "stderr",
     "output_type": "stream",
     "text": [
      "WARNING: This is a development server. Do not use it in a production deployment. Use a production WSGI server instead.\n",
      " * Running on http://127.0.0.1:12446\n",
      "Press CTRL+C to quit\n"
     ]
    },
    {
     "name": "stdout",
     "output_type": "stream",
     "text": [
      "payload={'user_id': 11111, 'user_name': 'flask_create_user_test'}\n",
      "2022-10-27 14:38:48,427 INFO sqlalchemy.engine.Engine BEGIN (implicit)\n",
      "2022-10-27 14:38:48,433 INFO sqlalchemy.engine.Engine INSERT INTO users (id, name, age, email, created, modified) VALUES (?, ?, ?, ?, ?, ?)\n",
      "2022-10-27 14:38:48,434 INFO sqlalchemy.engine.Engine [generated in 0.00143s] (11111, 'flask_create_user_test', None, None, '2022-10-27 14:38:48.422607', '2022-10-27 14:38:48.422612')\n",
      "2022-10-27 14:38:48,449 INFO sqlalchemy.engine.Engine COMMIT\n"
     ]
    },
    {
     "name": "stderr",
     "output_type": "stream",
     "text": [
      "127.0.0.1 - - [27/Oct/2022 14:38:48] \"POST /account/create HTTP/1.1\" 200 -\n"
     ]
    }
   ],
   "source": [
    "app.run(port=12446, debug=False)"
   ]
  },
  {
   "cell_type": "markdown",
   "metadata": {},
   "source": [
    "```\n",
    "curl http://127.0.0.1:12446/account/create -X POST -H \"Content-Type: application/json\" --data '{\"user_id\": 11111,\"user_name\": \"flask_create_user_test\"}'\n",
    "```"
   ]
  },
  {
   "cell_type": "code",
   "execution_count": 38,
   "metadata": {},
   "outputs": [
    {
     "name": "stdout",
     "output_type": "stream",
     "text": [
      "2022-10-27 14:40:05,011 INFO sqlalchemy.engine.Engine BEGIN (implicit)\n",
      "2022-10-27 14:40:05,013 INFO sqlalchemy.engine.Engine SELECT users.created AS users_created, users.modified AS users_modified, users.id AS users_id, users.name AS users_name, users.age AS users_age, users.email AS users_email \n",
      "FROM users \n",
      "WHERE users.id = ?\n",
      "2022-10-27 14:40:05,016 INFO sqlalchemy.engine.Engine [cached since 1.144e+04s ago] (11111,)\n",
      "2022-10-27 14:40:05,033 INFO sqlalchemy.engine.Engine ROLLBACK\n"
     ]
    },
    {
     "data": {
      "text/plain": [
       "{'body': {'name': 'user',\n",
       "  'id': 11111,\n",
       "  'user_name': 'flask_create_user_test',\n",
       "  'created_at': '2022-10-27 14:38:48',\n",
       "  'updated_at': '2022-10-27 14:38:48'},\n",
       " 'status': {'code': 'I0001', 'message': 'successful!', 'detail': ''}}"
      ]
     },
     "execution_count": 38,
     "metadata": {},
     "output_type": "execute_result"
    }
   ],
   "source": [
    "ConvertToJson(11111,12345)"
   ]
  },
  {
   "cell_type": "markdown",
   "metadata": {},
   "source": [
    "## Flaskからのデータのupdate"
   ]
  },
  {
   "cell_type": "markdown",
   "metadata": {},
   "source": [
    "### <span style=\"color:orange\">(1)updateAccountの関数の概要</span>\n",
    "flaskのrequestで.jsonして読み込みし、payload変数に格納\n",
    "\n",
    "↓呼び出し\n",
    "### <span style=\"color:orange\">(2)updateJsonの関数の概要</span>\n",
    "jsonをdictに格納\n",
    "\n",
    "- Parameters\n",
    "  - account_request : 作成するアカウント詳細(json\n",
    "  - operation_account_id : Webアプリケーション操作アカウントのID(int)\n",
    "- Returns\n",
    "  - JSON形式の処理結果\n",
    "    - 正常\n",
    "    - 異常\n",
    "\n",
    "↓呼び出し\n",
    "### <span style=\"color:orange\">(3)updateDataの関数の概要</span>\n",
    "idでデータを参照し、その値をupdateされたdictの値に変更する。  \n",
    "その際、.with_for_update()で排他編集にする。  \n",
    "成功すれば、True。失敗すれば、rollbackしFalseを返す\n",
    "\n",
    "↓return\n",
    "### <span style=\"color:orange\">(4)updateJsonの関数の概要</span>\n",
    "True,Falseでstatusのcodeを格納し、dict型でreturn\n",
    "\n",
    "↓return\n",
    "### <span style=\"color:orange\">(5)updateAccountの関数の概要</span>\n",
    "dict型のデータをjsonifyでよしなにjsonに変換\n"
   ]
  },
  {
   "cell_type": "code",
   "execution_count": null,
   "metadata": {},
   "outputs": [],
   "source": [
    "def updateData(user_dict, operation_user_id):\n",
    "    user_id = user_dict.get('id')\n",
    "    Session = scoped_session(sessionmaker(bind=engine, autocommit=False))\n",
    "    res=False\n",
    "    ses = Session()\n",
    "    # with_for_update()関数でロックをかける 排他編集\n",
    "    user_record = ses.query(User).with_for_update().get(user_id)\n",
    "    print(f\"user#update user_record={user_record}\")\n",
    "    message = \"\"\n",
    "    try:\n",
    "        v = user_dict.get('user_name')\n",
    "        if (v != None):\n",
    "            user_record.user_name=v\n",
    "        \n",
    "        user_record.updated_at=strftime(datetime.datetime.now())\n",
    "        # v = user_dict.get('status')\n",
    "        # if (v != None):\n",
    "        #     user_record.status=v\n",
    "        ses.add(user_record)\n",
    "        #他のプロセスによるロックを待つ\n",
    "        #time.sleep(1)\n",
    "        ses.commit()\n",
    "        res = True\n",
    "    except Exception as e:\n",
    "        message = str(e)\n",
    "        print(f\"user#update error:{message}\")\n",
    "        ses.rollback()\n",
    "        res = False\n",
    "    finally:\n",
    "        ses.close()\n",
    "    return (res, message)   "
   ]
  },
  {
   "cell_type": "code",
   "execution_count": 1,
   "metadata": {},
   "outputs": [],
   "source": [
    "def convertdict(from_dict):\n",
    "    print(f\"convertdict from_dict={from_dict}\")\n",
    "    target_dict = {}\n",
    "    if ('id' in from_dict):\n",
    "        target_dict['id'] = int(from_dict['id'])\n",
    "    if ('user_name' in from_dict):\n",
    "        target_dict['user_name'] = str(from_dict['user_name'])\n",
    "    if ('created_at' in from_dict):\n",
    "        target_dict['created_at'] = strptime(from_dict['created_at'])\n",
    "    if ('updated_at' in from_dict):\n",
    "        target_dict['updated_at'] = strptime(from_dict['updated_at'])\n",
    "    if ('status' in from_dict):\n",
    "        target_dict['status'] = int(from_dict['status'])\n",
    "    return target_dict"
   ]
  },
  {
   "cell_type": "code",
   "execution_count": 2,
   "metadata": {},
   "outputs": [],
   "source": [
    "def updateJson(account_request, operation_account_id):\n",
    "    account = convertdict(account_request)\n",
    "    try:\n",
    "        res = updateData(account, operation_account_id)\n",
    "        print(f\"AccountApi#update res={res[0]},{res[1]}\")\n",
    "        if res[0] == True:\n",
    "            code=\"I0001\"\n",
    "            message=\"Updated Account Succesfuly.\"\n",
    "        else:\n",
    "            code=\"E0001\"\n",
    "            message=res[1]\n",
    "        \n",
    "    except Exception as e:\n",
    "        code=\"E0009\"\n",
    "        message=f\"Updated failed {e}\"\n",
    "    \n",
    "    result_json = {\n",
    "        \"body\": \"\",\n",
    "        \"status\": {\n",
    "            \"code\" : code,\n",
    "            \"message\" : message,\n",
    "            \"detail\" : \"\"\n",
    "        }\n",
    "    }\n",
    "    return result_json"
   ]
  },
  {
   "cell_type": "code",
   "execution_count": 3,
   "metadata": {},
   "outputs": [
    {
     "ename": "NameError",
     "evalue": "name 'app' is not defined",
     "output_type": "error",
     "traceback": [
      "\u001b[0;31m---------------------------------------------------------------------------\u001b[0m",
      "\u001b[0;31mNameError\u001b[0m                                 Traceback (most recent call last)",
      "Cell \u001b[0;32mIn [3], line 1\u001b[0m\n\u001b[0;32m----> 1\u001b[0m \u001b[38;5;129m@app\u001b[39m\u001b[38;5;241m.\u001b[39mroute(\u001b[38;5;124m'\u001b[39m\u001b[38;5;124m/account/update\u001b[39m\u001b[38;5;124m'\u001b[39m, methods\u001b[38;5;241m=\u001b[39m[\u001b[38;5;124m'\u001b[39m\u001b[38;5;124mPOST\u001b[39m\u001b[38;5;124m'\u001b[39m])\n\u001b[1;32m      2\u001b[0m \u001b[38;5;28;01mdef\u001b[39;00m \u001b[38;5;21mupdateAccount\u001b[39m():\n\u001b[1;32m      3\u001b[0m     \u001b[38;5;66;03m#payload = request.data.decode('utf-8')\u001b[39;00m\n\u001b[1;32m      4\u001b[0m     payload \u001b[38;5;241m=\u001b[39m request\u001b[38;5;241m.\u001b[39mjson\n\u001b[1;32m      5\u001b[0m     \u001b[38;5;28mprint\u001b[39m(\u001b[38;5;124mf\u001b[39m\u001b[38;5;124m\"\u001b[39m\u001b[38;5;124mpayload=\u001b[39m\u001b[38;5;132;01m{\u001b[39;00mpayload\u001b[38;5;132;01m}\u001b[39;00m\u001b[38;5;124m\"\u001b[39m)\n",
      "\u001b[0;31mNameError\u001b[0m: name 'app' is not defined"
     ]
    }
   ],
   "source": [
    "@app.route('/account/update', methods=['POST'])\n",
    "def updateAccount():\n",
    "    #payload = request.data.decode('utf-8')\n",
    "    payload = request.json\n",
    "    print(f\"payload={payload}\")\n",
    "    response_json = updateJson(payload, system_account_id)\n",
    "    return jsonify(response_json)\n"
   ]
  },
  {
   "cell_type": "markdown",
   "metadata": {},
   "source": [
    "# ↓以下修正していない\n"
   ]
  },
  {
   "cell_type": "markdown",
   "metadata": {},
   "source": [
    "## Flaskからのデータの検索"
   ]
  },
  {
   "cell_type": "markdown",
   "metadata": {},
   "source": [
    "### <span style=\"color:orange\">(1)updateAccountの関数の概要</span>\n",
    "flaskのrequestで.jsonして読み込みし、payload変数に格納\n",
    "\n",
    "↓呼び出し\n",
    "### <span style=\"color:orange\">(2)updateJsonの関数の概要</span>\n",
    "jsonをdictに格納\n",
    "\n",
    "- Parameters\n",
    "  - account_request : 作成するアカウント詳細(json\n",
    "  - operation_account_id : Webアプリケーション操作アカウントのID(int)\n",
    "- Returns\n",
    "  - JSON形式の処理結果\n",
    "    - 正常\n",
    "    - 異常\n",
    "\n",
    "↓呼び出し\n",
    "### <span style=\"color:orange\">(3)updateDataの関数の概要</span>\n",
    "idでデータを参照し、その値をupdateされたdictの値に変更する。  \n",
    "その際、.with_for_update()で排他編集にする。  \n",
    "成功すれば、True。失敗すれば、rollbackしFalseを返す\n",
    "\n",
    "↓return\n",
    "### <span style=\"color:orange\">(4)updateJsonの関数の概要</span>\n",
    "True,Falseでstatusのcodeを格納し、dict型でreturn\n",
    "\n",
    "↓return\n",
    "### <span style=\"color:orange\">(5)updateAccountの関数の概要</span>\n",
    "dict型のデータをjsonifyでよしなにjsonに変換\n"
   ]
  },
  {
   "cell_type": "code",
   "execution_count": null,
   "metadata": {},
   "outputs": [],
   "source": [
    "def searchData(account_dict, operation_account_id):\n",
    "    \"\"\"\n",
    "    dictアカウントからaccountテーブルを検索し、該当したAccountオブジェクト群を取得する\n",
    "\n",
    "    Parameters\n",
    "    ----------\n",
    "    {\n",
    "        'account_name' : 文字列str(self.account_name),\n",
    "        'start_on' : 文字列 '2020-05-01 00:00:00',\n",
    "        'end_on' : 文字列 '2020-12-31 00:00:00',\n",
    "        'created_by' : account_id,\n",
    "        'created_at' : 文字列 '2020-12-31 00:00:00',\n",
    "        'updated_by' : account_id,\n",
    "        'updated_at' : 文字列 '2020-12-31 00:00:00',\n",
    "        'status' : statusの数値\n",
    "    }\n",
    "\n",
    "    Returns\n",
    "    -------\n",
    "    Accountオブジェクトのリスト\n",
    "    \"\"\"\n",
    "    print(f\"account_dict={account_dict}\")\n",
    "    Session = sessionmaker(bind=engine)\n",
    "    ses = Session()\n",
    "    res = None\n",
    "    rs = ses.query(Account)\n",
    "    v = account_dict.get('account_name')\n",
    "    if (v != None):\n",
    "        rs = rs.filter(Account.account_name==v)\n",
    "    v = account_dict.get('start_on')\n",
    "    if (v != None):\n",
    "        rs = rs.filter(Account.start_on==v)\n",
    "    v = account_dict.get('end_on')\n",
    "    if (v != None):\n",
    "        rs = rs.filter(Account.end_on==v)\n",
    "    v = account_dict.get('created_by')\n",
    "    if (v != None):\n",
    "        rs = rs.filter(Account.created_by==v)\n",
    "    v = account_dict.get('created_at')\n",
    "    if (v != None):\n",
    "        rs = rs.filter(Account.created_at==v)\n",
    "    v = account_dict.get('updated_by')\n",
    "    if (v != None):\n",
    "        rs = rs.filter(Account.updated_by==v)\n",
    "    v = account_dict.get('updated_at')\n",
    "    if (v != None):\n",
    "        rs = rs.filter(Account.updated_at==v)\n",
    "    v = account_dict.get('status')\n",
    "    if (v != None):\n",
    "        rs = rs.filter(Account.status==v)\n",
    "    rs = rs.filter(Account.status!=Status.getStatusKey(\"DELETE\"))\n",
    "\n",
    "    res = rs.all()\n",
    "    lambda r: print(f\"r={r}\"),res\n",
    "    ses.close()\n",
    "    return res\n"
   ]
  },
  {
   "cell_type": "code",
   "execution_count": null,
   "metadata": {},
   "outputs": [],
   "source": [
    "\n",
    "def search(request, user_id):\n",
    "    \"\"\"\n",
    "    /account/searchで呼び出されたAPIの検索処理\n",
    "\n",
    "    Parameters\n",
    "    ----------\n",
    "    account_request : json\n",
    "        アカウント検索項目\n",
    "    user_id : int\n",
    "        Webアプリケーション操作アカウントのID\n",
    "\n",
    "    Returns\n",
    "    -------\n",
    "    JSON形式の処理結果\n",
    "        正常\n",
    "        異常\n",
    "    \"\"\"\n",
    "\n",
    "    account_request = convertdict(request)\n",
    "    try:\n",
    "        results = Account.search(account_request, user_id)\n",
    "        code=\"I0001\"\n",
    "        message=f\"Found ({len(results)}) records.\"\n",
    "        \n",
    "    except Exception as e:\n",
    "        code=\"E0009\"\n",
    "        message=\"Search failed: \" + str(e)\n",
    "\n",
    "    result_json = {\n",
    "        \"body\": list(map(lambda s: s.toJson(), results)),\n",
    "        \"status\": {\n",
    "            \"code\" : code,\n",
    "            \"message\" : message,\n",
    "            \"detail\" : \"\"\n",
    "        }\n",
    "    }\n",
    "    return result_json"
   ]
  },
  {
   "cell_type": "code",
   "execution_count": null,
   "metadata": {},
   "outputs": [],
   "source": [
    "\n",
    "@api_bp.route('/account/search', methods=['POST'])\n",
    "def searchAccount():\n",
    "    #payload = request.data.decode('utf-8')\n",
    "    payload = request.json\n",
    "    print(f\"payload={payload}\")\n",
    "    response_json = AccountApi.search(payload, system_account_id)\n",
    "    return jsonify(response_json)\n"
   ]
  },
  {
   "cell_type": "markdown",
   "metadata": {},
   "source": [
    "## Flaskからのデータの削除"
   ]
  },
  {
   "cell_type": "markdown",
   "metadata": {},
   "source": [
    "### <span style=\"color:orange\">(1)updateAccountの関数の概要</span>\n",
    "flaskのrequestで.jsonして読み込みし、payload変数に格納\n",
    "\n",
    "↓呼び出し\n",
    "### <span style=\"color:orange\">(2)updateJsonの関数の概要</span>\n",
    "jsonをdictに格納\n",
    "\n",
    "- Parameters\n",
    "  - account_request : 作成するアカウント詳細(json\n",
    "  - operation_account_id : Webアプリケーション操作アカウントのID(int)\n",
    "- Returns\n",
    "  - JSON形式の処理結果\n",
    "    - 正常\n",
    "    - 異常\n",
    "\n",
    "↓呼び出し\n",
    "### <span style=\"color:orange\">(3)updateDataの関数の概要</span>\n",
    "idでデータを参照し、その値をupdateされたdictの値に変更する。  \n",
    "その際、.with_for_update()で排他編集にする。  \n",
    "成功すれば、True。失敗すれば、rollbackしFalseを返す\n",
    "\n",
    "↓return\n",
    "### <span style=\"color:orange\">(4)updateJsonの関数の概要</span>\n",
    "True,Falseでstatusのcodeを格納し、dict型でreturn\n",
    "\n",
    "↓return\n",
    "### <span style=\"color:orange\">(5)updateAccountの関数の概要</span>\n",
    "dict型のデータをjsonifyでよしなにjsonに変換\n"
   ]
  },
  {
   "cell_type": "code",
   "execution_count": null,
   "metadata": {},
   "outputs": [],
   "source": [
    "def delete(account_id, operation_account_id):\n",
    "    Session = scoped_session(sessionmaker(bind=engine, autocommit=False))\n",
    "    ses = Session()\n",
    "    account_record = ses.query(Account).with_for_update().get(account_id)\n",
    "    try:\n",
    "        account_record.status=Status.getStatusKey(\"DELETE\")\n",
    "        ses.add(account_record)\n",
    "        #他のプロセスによるロックを待つ\n",
    "        #time.sleep(1)\n",
    "        ses.commit()\n",
    "        message = \"\"\n",
    "        res = True\n",
    "    except Exception as e:\n",
    "        message = str(e)\n",
    "        print(f\"Account#update error:{message}\")\n",
    "        ses.rollback()\n",
    "        res = False\n",
    "    finally:\n",
    "        ses.close()\n",
    "    return (res, message)   "
   ]
  },
  {
   "cell_type": "code",
   "execution_count": null,
   "metadata": {},
   "outputs": [],
   "source": [
    "\n",
    "def delete(account_id, operation_account_id):\n",
    "    \"\"\"\n",
    "    /account/deleteで呼び出されたAPIの検索処理\n",
    "\n",
    "    Parameters\n",
    "    ----------\n",
    "    account_id : int\n",
    "        削除するアカウントID\n",
    "    operation_account_id : int\n",
    "        Webアプリケーション操作アカウントのID\n",
    "\n",
    "    Returns\n",
    "    -------\n",
    "    JSON形式の処理結果\n",
    "        正常\n",
    "        異常\n",
    "    \"\"\"\n",
    "\n",
    "    try:\n",
    "        res = Account.delete(account_id, operation_account_id)\n",
    "        if res[0] == True:\n",
    "            code=\"I0001\"\n",
    "            message=\"deleted Account Succesfuly.\"\n",
    "        else:\n",
    "            code=\"E0001\"\n",
    "            message=res[1]\n",
    "        \n",
    "    except Exception as e:\n",
    "        code=\"E0009\"\n",
    "        message=f\"Deleted failed:{str(e)}\"\n",
    "    \n",
    "    result_json = {\n",
    "        \"body\": \"\",\n",
    "        \"status\": {\n",
    "            \"code\" : code,\n",
    "            \"message\" : message,\n",
    "            \"detail\" : \"\"\n",
    "        }\n",
    "    }\n",
    "    return result_json"
   ]
  },
  {
   "cell_type": "code",
   "execution_count": null,
   "metadata": {},
   "outputs": [],
   "source": [
    "\n",
    "@api_bp.route('/account/delete/<id>', methods=['GET'])\n",
    "def deleteAccount(id):\n",
    "    account_json = AccountApi.delete(id, system_account_id)\n",
    "    return jsonify(account_json)\n"
   ]
  },
  {
   "cell_type": "code",
   "execution_count": null,
   "metadata": {},
   "outputs": [],
   "source": [
    "# res = ses.query(User).filter(User.id == user_id)"
   ]
  },
  {
   "cell_type": "code",
   "execution_count": null,
   "metadata": {},
   "outputs": [],
   "source": []
  }
 ],
 "metadata": {
  "kernelspec": {
   "display_name": "Python 3.10.6 64-bit",
   "language": "python",
   "name": "python3"
  },
  "language_info": {
   "codemirror_mode": {
    "name": "ipython",
    "version": 3
   },
   "file_extension": ".py",
   "mimetype": "text/x-python",
   "name": "python",
   "nbconvert_exporter": "python",
   "pygments_lexer": "ipython3",
   "version": "3.10.6"
  },
  "orig_nbformat": 4,
  "vscode": {
   "interpreter": {
    "hash": "b0fa6594d8f4cbf19f97940f81e996739fb7646882a419484c72d19e05852a7e"
   }
  }
 },
 "nbformat": 4,
 "nbformat_minor": 2
}
