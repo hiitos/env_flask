{
 "cells": [
  {
   "cell_type": "markdown",
   "metadata": {},
   "source": [
    "# Flaskテスト"
   ]
  },
  {
   "cell_type": "code",
   "execution_count": 1,
   "metadata": {},
   "outputs": [],
   "source": [
    "# pip install flask"
   ]
  },
  {
   "cell_type": "code",
   "execution_count": 2,
   "metadata": {},
   "outputs": [],
   "source": [
    "# pip install flask_restful"
   ]
  },
  {
   "cell_type": "code",
   "execution_count": 3,
   "metadata": {},
   "outputs": [],
   "source": [
    "# pip install flask_sqlalchemy"
   ]
  },
  {
   "cell_type": "code",
   "execution_count": 4,
   "metadata": {},
   "outputs": [],
   "source": [
    "import numpy as np\n",
    "import pandas  as pd\n",
    "import requests\n",
    "import json\n",
    "\n",
    "from flask_restful import Api, Resource\n",
    "from flask import Flask, Blueprint, request ,render_template, jsonify\n",
    "import flask\n",
    "import json"
   ]
  },
  {
   "cell_type": "code",
   "execution_count": 5,
   "metadata": {},
   "outputs": [],
   "source": [
    "from sqlalchemy import create_engine, Column, Integer, String, Time\n",
    "from sqlalchemy.dialects.mysql import TIMESTAMP as Timestamp\n",
    "from sqlalchemy.ext.declarative import declarative_base\n",
    "from sqlalchemy.orm import sessionmaker, scoped_session\n",
    "import sqlalchemy\n",
    "from flask_sqlalchemy import SQLAlchemy"
   ]
  },
  {
   "cell_type": "markdown",
   "metadata": {},
   "source": [
    "## 起動確認"
   ]
  },
  {
   "cell_type": "code",
   "execution_count": 21,
   "metadata": {},
   "outputs": [
    {
     "name": "stdout",
     "output_type": "stream",
     "text": [
      " * Serving Flask app '__main__'\n",
      " * Debug mode: off\n"
     ]
    },
    {
     "name": "stderr",
     "output_type": "stream",
     "text": [
      "WARNING: This is a development server. Do not use it in a production deployment. Use a production WSGI server instead.\n",
      " * Running on http://127.0.0.1:12345\n",
      "Press CTRL+C to quit\n",
      "127.0.0.1 - - [26/Oct/2022 11:01:42] \"GET / HTTP/1.1\" 200 -\n",
      "127.0.0.1 - - [26/Oct/2022 11:01:42] \"GET /favicon.ico HTTP/1.1\" 404 -\n",
      "127.0.0.1 - - [26/Oct/2022 11:01:48] \"GET / HTTP/1.1\" 200 -\n"
     ]
    }
   ],
   "source": [
    "app = Flask(__name__)\n",
    "\n",
    "@app.route(\"/\")\n",
    "def hello_world():\n",
    "    return \"<p>!Flask from Jupyter Notebook!</p>\"\n",
    "\n",
    "app.run(port=12345, debug=False)"
   ]
  },
  {
   "cell_type": "markdown",
   "metadata": {},
   "source": [
    "## テスト用のデータベースに接続\n",
    "*sqlalchemy_tutorial.ipynbを実行した後に行うこと(dbが作成されないため)"
   ]
  },
  {
   "cell_type": "code",
   "execution_count": 24,
   "metadata": {},
   "outputs": [],
   "source": [
    "# ローカル用のDB設定\n",
    "DB_CONNECT_URL = 'sqlite:///db.sqlite3'\n",
    "\n",
    "# engineの設定 接続用のインスタンスを作成（create_engine関数がEngineインスタンスを返す）\n",
    "engine = create_engine(DB_CONNECT_URL,echo=True)"
   ]
  },
  {
   "cell_type": "markdown",
   "metadata": {},
   "source": [
    "## GET"
   ]
  },
  {
   "cell_type": "code",
   "execution_count": null,
   "metadata": {},
   "outputs": [],
   "source": [
    "system_account_id=999\n",
    "\n",
    "api_bp = Blueprint('api', __name__, url_prefix='/api')\n",
    "\n",
    "@api_bp.route('/account/get/<id>', methods=['GET'])\n",
    "def getAccount(id):\n",
    "    account_json = AccountApi.getById(id, system_account_id)\n",
    "    return jsonify(account_json)"
   ]
  },
  {
   "cell_type": "code",
   "execution_count": null,
   "metadata": {},
   "outputs": [],
   "source": [
    "def getById(account_id, operation_account_id):\n",
    "    \"\"\"\n",
    "    /account/get/<id>で呼び出されたAPIの検索処理\n",
    "\n",
    "    Parameters\n",
    "    ----------\n",
    "    account_id : int\n",
    "        検索するアカウントのアカウントID\n",
    "    operation_account_id : int\n",
    "        Webアプリケーション操作アカウントのID\n",
    "\n",
    "    Returns\n",
    "    -------\n",
    "    ret\n",
    "        json形式のアカウント詳細\n",
    "    {\n",
    "      \"body\": {\n",
    "        \"name\": \"account\",\n",
    "        \"id\": <account_id>,\n",
    "        \"account_name\": <account_name>,\n",
    "        \"start_on\": \"2021-01-01 10:00:00\",\n",
    "        \"end_on\": \"2025-12-31 21:00:00\"\n",
    "    },\n",
    "      \"status\": {\n",
    "        \"code\" : \"I0001\",\n",
    "        \"message\" : \"\",\n",
    "        \"detail\" : \"\"\n",
    "      }\n",
    "    }\n",
    "    \"\"\"\n",
    "    \n",
    "    result = Account.getById(account_id, operation_account_id)\n",
    "    # TODO モデルの検索結果(正常・異常)によってレスポンスの出力内容を変える\n",
    "    result_json = {\n",
    "        \"body\": {\n",
    "            \"name\": \"account\",\n",
    "            \"id\": account_id,\n",
    "            \"account_name\": result.account_name,\n",
    "            \"start_on\": result.start_on.strftime(\"%Y-%m-%d %H:%M:%S\"),\n",
    "            \"end_on\": result.end_on.strftime(\"%Y-%m-%d %H:%M:%S\")\n",
    "        },\n",
    "        \"status\": {\n",
    "            \"code\" : \"I0001\",\n",
    "            \"message\" : \"\",\n",
    "            \"detail\" : \"\"\n",
    "        }\n",
    "    }\n",
    "    return result_json\n"
   ]
  },
  {
   "cell_type": "code",
   "execution_count": null,
   "metadata": {},
   "outputs": [],
   "source": [
    "def getById(account_id, operation_account_id):\n",
    "    \"\"\"\n",
    "    アカウントidでaccountテーブルを検索をし、該当したAccountオブジェクト群を取得する\n",
    "\n",
    "    Parameters\n",
    "    ----------\n",
    "    account_id : 検索対象のアカウントid\n",
    "    operation_account_id : 操作ユーザーのアカウントid\n",
    "\n",
    "    Returns\n",
    "    -------\n",
    "    Accountオブジェクトのリスト\n",
    "    \"\"\"\n",
    "    Session = sessionmaker(bind=engine)\n",
    "    ses = Session()\n",
    "    res = ses.query(Account).get(account_id)\n",
    "    ses.close()\n",
    "    return res"
   ]
  },
  {
   "cell_type": "code",
   "execution_count": 2,
   "metadata": {},
   "outputs": [],
   "source": [
    "response = {\n",
    "    \"LINE_id\": \"asdferwt\",\n",
    "    \"date\": \"202210152155\",\n",
    "    \"desease_name\": \"糖尿病\",\n",
    "    \"frequency\": \"1\",\n",
    "    \"isDone\": \"false\",\n",
    "    \"todo_name\": \"水を飲む\",\n",
    "    \"updatedAt\": \"202210152155\"\n",
    "}"
   ]
  },
  {
   "cell_type": "code",
   "execution_count": 3,
   "metadata": {},
   "outputs": [
    {
     "data": {
      "text/plain": [
       "'{\"LINE_id\": \"asdferwt\", \"date\": \"202210152155\", \"desease_name\": \"糖尿病\", \"frequency\": \"1\", \"isDone\": \"false\", \"todo_name\": \"水を飲む\", \"updatedAt\": \"202210152155\"}'"
      ]
     },
     "execution_count": 3,
     "metadata": {},
     "output_type": "execute_result"
    }
   ],
   "source": [
    "from datetime import date, datetime\n",
    "\n",
    "def json_serial(obj):\n",
    "\n",
    "    if isinstance(obj, (datetime, date)):\n",
    "        return obj.isoformat()\n",
    "    raise TypeError (f'Type {obj} not serializable')\n",
    "\n",
    "json.dumps(response,default=json_serial,ensure_ascii=False)"
   ]
  },
  {
   "cell_type": "code",
   "execution_count": 4,
   "metadata": {},
   "outputs": [
    {
     "name": "stdout",
     "output_type": "stream",
     "text": [
      "+++++++++++HELLOR notebook++++++++++++\n"
     ]
    }
   ],
   "source": [
    "print(\"+++++++++++HELLOR notebook++++++++++++\")"
   ]
  },
  {
   "cell_type": "code",
   "execution_count": null,
   "metadata": {},
   "outputs": [],
   "source": []
  }
 ],
 "metadata": {
  "kernelspec": {
   "display_name": "Python 3.10.6 ('base')",
   "language": "python",
   "name": "python3"
  },
  "language_info": {
   "codemirror_mode": {
    "name": "ipython",
    "version": 3
   },
   "file_extension": ".py",
   "mimetype": "text/x-python",
   "name": "python",
   "nbconvert_exporter": "python",
   "pygments_lexer": "ipython3",
   "version": "3.10.6"
  },
  "orig_nbformat": 4,
  "vscode": {
   "interpreter": {
    "hash": "d4d1e4263499bec80672ea0156c357c1ee493ec2b1c70f0acce89fc37c4a6abe"
   }
  }
 },
 "nbformat": 4,
 "nbformat_minor": 2
}
